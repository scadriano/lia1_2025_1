{
 "cells": [
  {
   "cell_type": "markdown",
   "id": "a97ab404-981e-490a-b1a7-ae4e727f0d12",
   "metadata": {},
   "source": [
    "<hr style=\"height:10px\"> \n",
    " \n",
    "<div class='container2'>\n",
    "\t\t<div>\n",
    "\t\t\t<img src='images\\tesla_logo.svg' ALIGN='left' style='width:5em'>\n",
    "\t\t</div>\t\n",
    "\t<div style='padding: 0 7em 2em 12em;'>\n",
    "\t<h1>Preço de Ações Tesla - (2000-2025)</h1>\n",
    "    <div style=\"font-size:12pt;float:left;\"><b>Projetos de Inteligência Artificial - Análise Exploratória de Dados </b></div>\n",
    "\t</div>\n",
    "</div>\n",
    "\n",
    "\n",
    " <hr style=\"height:5px\"> \n",
    "\n",
    "    \n",
    "<h2><a href=\"https://www.kaggle.com/datasets/taimoor888/tesla-stock-price-data-2000-2025\">Tesla Stock Price Dataset </a> </h2>\n",
    "\n",
    "Notebook desenvolvido por: <a href=\"https://luc4sdev.vercel.app/\">Lucas Pereira França</a>\n",
    "\n",
    " <hr style=\"height:2px\"> "
   ]
  },
  {
   "cell_type": "code",
   "execution_count": 24,
   "id": "8e0d3e0b-4389-48fa-99fd-d14fea1ed45d",
   "metadata": {},
   "outputs": [
    {
     "name": "stdout",
     "output_type": "stream",
     "text": [
      "A versão da linguagem Python usada neste projeto é a 3.12.7!\n"
     ]
    }
   ],
   "source": [
    "# Confirmar a versão da Linguagem Python instalada\n",
    "from platform import python_version\n",
    "print(f'A versão da linguagem Python usada neste projeto é a {python_version()}!')"
   ]
  },
  {
   "cell_type": "code",
   "execution_count": 26,
   "id": "9bef0307-4232-4591-b810-0a84015b67a7",
   "metadata": {},
   "outputs": [
    {
     "name": "stdout",
     "output_type": "stream",
     "text": [
      "Bye bye, World!\n"
     ]
    }
   ],
   "source": [
    "# Verificar se o Python está funcionando\n",
    "print('Bye bye, World!')"
   ]
  },
  {
   "cell_type": "markdown",
   "id": "09b97d35-3cda-42dc-a41d-577576699f97",
   "metadata": {},
   "source": [
    "---\n",
    "## 2. Carregar e Exibir os Dados da Fonte\n",
    "\n",
    "Primeiro, vamos importar todas as bibliotecas que serão utilizadas no projeto."
   ]
  },
  {
   "cell_type": "code",
   "execution_count": 29,
   "id": "65b196bb-d6a0-482a-9fca-ff865830bd60",
   "metadata": {},
   "outputs": [
    {
     "name": "stdout",
     "output_type": "stream",
     "text": [
      "Bibliotecas carregadas com sucesso!\n"
     ]
    }
   ],
   "source": [
    "# -*- coding: utf-8 -*-\n",
    "\n",
    "# importar a biblioteca usada para trabalhar com vetores e matrizes\n",
    "import numpy as np\n",
    "\n",
    "# importar a biblioteca usada para trabalhar com dataframes (dados em formato de tabela) e análise de dados\n",
    "import pandas as pd \n",
    "\n",
    "# importar as bibliotecas usadas para geração de gráficos\n",
    "import seaborn as sns\n",
    "import matplotlib.pyplot as plt\n",
    "\n",
    "print('Bibliotecas carregadas com sucesso!')"
   ]
  },
  {
   "cell_type": "markdown",
   "id": "3f6ecea5-476f-47e9-b675-b60beab199cb",
   "metadata": {},
   "source": [
    "### Apresentação da base de dados\n",
    "\n",
    "Este conjunto de dados contém os preços históricos das ações da Tesla Inc. (TSLA) de 1º de janeiro de 2000 a março de 2025. Os dados incluem preços diários de abertura, alta, baixa, fechamento, preços de fechamento ajustados e volume de negociação. É ideal para análise do mercado de ações, previsão de séries temporais e pesquisa financeira.\n"
   ]
  },
  {
   "cell_type": "code",
   "execution_count": 74,
   "id": "8a1c5f37-4912-4712-a367-6ae7497ced2d",
   "metadata": {},
   "outputs": [
    {
     "name": "stdout",
     "output_type": "stream",
     "text": [
      "Dados importados com sucesso!\n"
     ]
    }
   ],
   "source": [
    "# importar o arquivo e guardar em um dataframe do Pandas\n",
    "df_dataset = pd.read_csv ( 'datasets/tesla_stock_data_2000_2025.csv', sep=',', skiprows=2, header=None, names=['Date', 'Close', 'High', 'Low', 'Open', 'Volume'], index_col=None)\n",
    "df_dataset = df_dataset.drop(0)  # Remove a linha com índice 0\n",
    "print('Dados importados com sucesso!')"
   ]
  },
  {
   "cell_type": "code",
   "execution_count": 76,
   "id": "1df6e445-81e4-4e6d-80a3-00dadf29f940",
   "metadata": {},
   "outputs": [
    {
     "data": {
      "text/html": [
       "<div>\n",
       "<style scoped>\n",
       "    .dataframe tbody tr th:only-of-type {\n",
       "        vertical-align: middle;\n",
       "    }\n",
       "\n",
       "    .dataframe tbody tr th {\n",
       "        vertical-align: top;\n",
       "    }\n",
       "\n",
       "    .dataframe thead th {\n",
       "        text-align: right;\n",
       "    }\n",
       "</style>\n",
       "<table border=\"1\" class=\"dataframe\">\n",
       "  <thead>\n",
       "    <tr style=\"text-align: right;\">\n",
       "      <th></th>\n",
       "      <th>Date</th>\n",
       "      <th>Close</th>\n",
       "      <th>High</th>\n",
       "      <th>Low</th>\n",
       "      <th>Open</th>\n",
       "      <th>Volume</th>\n",
       "    </tr>\n",
       "  </thead>\n",
       "  <tbody>\n",
       "    <tr>\n",
       "      <th>1</th>\n",
       "      <td>2010-06-29</td>\n",
       "      <td>1.592667</td>\n",
       "      <td>1.666667</td>\n",
       "      <td>1.169333</td>\n",
       "      <td>1.266667</td>\n",
       "      <td>281494500.0</td>\n",
       "    </tr>\n",
       "    <tr>\n",
       "      <th>2</th>\n",
       "      <td>2010-06-30</td>\n",
       "      <td>1.588667</td>\n",
       "      <td>2.028000</td>\n",
       "      <td>1.553333</td>\n",
       "      <td>1.719333</td>\n",
       "      <td>257806500.0</td>\n",
       "    </tr>\n",
       "    <tr>\n",
       "      <th>3</th>\n",
       "      <td>2010-07-01</td>\n",
       "      <td>1.464000</td>\n",
       "      <td>1.728000</td>\n",
       "      <td>1.351333</td>\n",
       "      <td>1.666667</td>\n",
       "      <td>123282000.0</td>\n",
       "    </tr>\n",
       "    <tr>\n",
       "      <th>4</th>\n",
       "      <td>2010-07-02</td>\n",
       "      <td>1.280000</td>\n",
       "      <td>1.540000</td>\n",
       "      <td>1.247333</td>\n",
       "      <td>1.533333</td>\n",
       "      <td>77097000.0</td>\n",
       "    </tr>\n",
       "    <tr>\n",
       "      <th>5</th>\n",
       "      <td>2010-07-06</td>\n",
       "      <td>1.074000</td>\n",
       "      <td>1.333333</td>\n",
       "      <td>1.055333</td>\n",
       "      <td>1.333333</td>\n",
       "      <td>103003500.0</td>\n",
       "    </tr>\n",
       "    <tr>\n",
       "      <th>...</th>\n",
       "      <td>...</td>\n",
       "      <td>...</td>\n",
       "      <td>...</td>\n",
       "      <td>...</td>\n",
       "      <td>...</td>\n",
       "      <td>...</td>\n",
       "    </tr>\n",
       "    <tr>\n",
       "      <th>3688</th>\n",
       "      <td>2025-02-25</td>\n",
       "      <td>302.799988</td>\n",
       "      <td>328.890015</td>\n",
       "      <td>297.250000</td>\n",
       "      <td>327.019989</td>\n",
       "      <td>134228800.0</td>\n",
       "    </tr>\n",
       "    <tr>\n",
       "      <th>3689</th>\n",
       "      <td>2025-02-26</td>\n",
       "      <td>290.799988</td>\n",
       "      <td>309.000000</td>\n",
       "      <td>288.040009</td>\n",
       "      <td>303.709991</td>\n",
       "      <td>100118300.0</td>\n",
       "    </tr>\n",
       "    <tr>\n",
       "      <th>3690</th>\n",
       "      <td>2025-02-27</td>\n",
       "      <td>281.950012</td>\n",
       "      <td>297.230011</td>\n",
       "      <td>280.880005</td>\n",
       "      <td>291.160004</td>\n",
       "      <td>101748200.0</td>\n",
       "    </tr>\n",
       "    <tr>\n",
       "      <th>3691</th>\n",
       "      <td>2025-02-28</td>\n",
       "      <td>292.980011</td>\n",
       "      <td>293.880005</td>\n",
       "      <td>273.600006</td>\n",
       "      <td>279.500000</td>\n",
       "      <td>115397200.0</td>\n",
       "    </tr>\n",
       "    <tr>\n",
       "      <th>3692</th>\n",
       "      <td>2025-03-03</td>\n",
       "      <td>302.339996</td>\n",
       "      <td>303.940002</td>\n",
       "      <td>291.700012</td>\n",
       "      <td>300.367004</td>\n",
       "      <td>52912315.0</td>\n",
       "    </tr>\n",
       "  </tbody>\n",
       "</table>\n",
       "<p>3692 rows × 6 columns</p>\n",
       "</div>"
      ],
      "text/plain": [
       "            Date       Close        High         Low        Open       Volume\n",
       "1     2010-06-29    1.592667    1.666667    1.169333    1.266667  281494500.0\n",
       "2     2010-06-30    1.588667    2.028000    1.553333    1.719333  257806500.0\n",
       "3     2010-07-01    1.464000    1.728000    1.351333    1.666667  123282000.0\n",
       "4     2010-07-02    1.280000    1.540000    1.247333    1.533333   77097000.0\n",
       "5     2010-07-06    1.074000    1.333333    1.055333    1.333333  103003500.0\n",
       "...          ...         ...         ...         ...         ...          ...\n",
       "3688  2025-02-25  302.799988  328.890015  297.250000  327.019989  134228800.0\n",
       "3689  2025-02-26  290.799988  309.000000  288.040009  303.709991  100118300.0\n",
       "3690  2025-02-27  281.950012  297.230011  280.880005  291.160004  101748200.0\n",
       "3691  2025-02-28  292.980011  293.880005  273.600006  279.500000  115397200.0\n",
       "3692  2025-03-03  302.339996  303.940002  291.700012  300.367004   52912315.0\n",
       "\n",
       "[3692 rows x 6 columns]"
      ]
     },
     "metadata": {},
     "output_type": "display_data"
    }
   ],
   "source": [
    "# exibir uma amostra do dataframe\n",
    "#display(df_dataset.head())\n",
    "display(df_dataset)"
   ]
  },
  {
   "cell_type": "markdown",
   "id": "3cfe4385-ef1c-472a-9d9c-0fec841ec107",
   "metadata": {},
   "source": [
    "---\n",
    "## 3. Pré-processamento\n",
    "\n",
    "Minimizar ou eliminar problemas existentes em um conjunto de dados, bem como torná-los mais adequados para sua utilização por um determinado algoritmo de aprendizagem de máquina.\n",
    "\n",
    "## 3.1 Eliminação de atributos irrelevantes\n",
    "\n",
    "O objetivo do projeto é identificar o preço das ações da Tesla ao longo dos anos. Não é preciso uma análise profunda para observar que os atributos `High` e `Low` não contribuem muito para a identificação. Portanto, em uma tarefa de aprendizado de máquina, devemos remover esses atributos, pois são irrelevantes. \n",
    "\n",
    "*Em cenários reais, muitas vezes é necessário consultar especialistas para ajudar a identificar quais atributos são irrelevantes.*# exibir uma amostra do dataframe\n",
    "#display(df_dataset.head())\n",
    "display(df_dataset)"
   ]
  },
  {
   "cell_type": "code",
   "execution_count": 79,
   "id": "8abc4ebb-9ba5-44a7-9cb4-7d50a37270db",
   "metadata": {},
   "outputs": [
    {
     "data": {
      "text/html": [
       "<div>\n",
       "<style scoped>\n",
       "    .dataframe tbody tr th:only-of-type {\n",
       "        vertical-align: middle;\n",
       "    }\n",
       "\n",
       "    .dataframe tbody tr th {\n",
       "        vertical-align: top;\n",
       "    }\n",
       "\n",
       "    .dataframe thead th {\n",
       "        text-align: right;\n",
       "    }\n",
       "</style>\n",
       "<table border=\"1\" class=\"dataframe\">\n",
       "  <thead>\n",
       "    <tr style=\"text-align: right;\">\n",
       "      <th></th>\n",
       "      <th>Date</th>\n",
       "      <th>Close</th>\n",
       "      <th>Open</th>\n",
       "      <th>Volume</th>\n",
       "    </tr>\n",
       "  </thead>\n",
       "  <tbody>\n",
       "    <tr>\n",
       "      <th>1</th>\n",
       "      <td>2010-06-29</td>\n",
       "      <td>1.592667</td>\n",
       "      <td>1.266667</td>\n",
       "      <td>281494500.0</td>\n",
       "    </tr>\n",
       "    <tr>\n",
       "      <th>2</th>\n",
       "      <td>2010-06-30</td>\n",
       "      <td>1.588667</td>\n",
       "      <td>1.719333</td>\n",
       "      <td>257806500.0</td>\n",
       "    </tr>\n",
       "    <tr>\n",
       "      <th>3</th>\n",
       "      <td>2010-07-01</td>\n",
       "      <td>1.464000</td>\n",
       "      <td>1.666667</td>\n",
       "      <td>123282000.0</td>\n",
       "    </tr>\n",
       "    <tr>\n",
       "      <th>4</th>\n",
       "      <td>2010-07-02</td>\n",
       "      <td>1.280000</td>\n",
       "      <td>1.533333</td>\n",
       "      <td>77097000.0</td>\n",
       "    </tr>\n",
       "    <tr>\n",
       "      <th>5</th>\n",
       "      <td>2010-07-06</td>\n",
       "      <td>1.074000</td>\n",
       "      <td>1.333333</td>\n",
       "      <td>103003500.0</td>\n",
       "    </tr>\n",
       "    <tr>\n",
       "      <th>6</th>\n",
       "      <td>2010-07-07</td>\n",
       "      <td>1.053333</td>\n",
       "      <td>1.093333</td>\n",
       "      <td>103825500.0</td>\n",
       "    </tr>\n",
       "    <tr>\n",
       "      <th>7</th>\n",
       "      <td>2010-07-08</td>\n",
       "      <td>1.164000</td>\n",
       "      <td>1.076000</td>\n",
       "      <td>115671000.0</td>\n",
       "    </tr>\n",
       "    <tr>\n",
       "      <th>8</th>\n",
       "      <td>2010-07-09</td>\n",
       "      <td>1.160000</td>\n",
       "      <td>1.172000</td>\n",
       "      <td>60759000.0</td>\n",
       "    </tr>\n",
       "    <tr>\n",
       "      <th>9</th>\n",
       "      <td>2010-07-12</td>\n",
       "      <td>1.136667</td>\n",
       "      <td>1.196667</td>\n",
       "      <td>33037500.0</td>\n",
       "    </tr>\n",
       "    <tr>\n",
       "      <th>10</th>\n",
       "      <td>2010-07-13</td>\n",
       "      <td>1.209333</td>\n",
       "      <td>1.159333</td>\n",
       "      <td>40201500.0</td>\n",
       "    </tr>\n",
       "    <tr>\n",
       "      <th>11</th>\n",
       "      <td>2010-07-14</td>\n",
       "      <td>1.322667</td>\n",
       "      <td>1.196000</td>\n",
       "      <td>62928000.0</td>\n",
       "    </tr>\n",
       "    <tr>\n",
       "      <th>12</th>\n",
       "      <td>2010-07-15</td>\n",
       "      <td>1.326000</td>\n",
       "      <td>1.329333</td>\n",
       "      <td>56097000.0</td>\n",
       "    </tr>\n",
       "    <tr>\n",
       "      <th>13</th>\n",
       "      <td>2010-07-16</td>\n",
       "      <td>1.376000</td>\n",
       "      <td>1.380000</td>\n",
       "      <td>39319500.0</td>\n",
       "    </tr>\n",
       "    <tr>\n",
       "      <th>14</th>\n",
       "      <td>2010-07-19</td>\n",
       "      <td>1.460667</td>\n",
       "      <td>1.424667</td>\n",
       "      <td>37297500.0</td>\n",
       "    </tr>\n",
       "    <tr>\n",
       "      <th>15</th>\n",
       "      <td>2010-07-20</td>\n",
       "      <td>1.353333</td>\n",
       "      <td>1.456667</td>\n",
       "      <td>27379500.0</td>\n",
       "    </tr>\n",
       "    <tr>\n",
       "      <th>16</th>\n",
       "      <td>2010-07-21</td>\n",
       "      <td>1.348000</td>\n",
       "      <td>1.377333</td>\n",
       "      <td>18787500.0</td>\n",
       "    </tr>\n",
       "    <tr>\n",
       "      <th>17</th>\n",
       "      <td>2010-07-22</td>\n",
       "      <td>1.400000</td>\n",
       "      <td>1.366667</td>\n",
       "      <td>14367000.0</td>\n",
       "    </tr>\n",
       "    <tr>\n",
       "      <th>18</th>\n",
       "      <td>2010-07-23</td>\n",
       "      <td>1.419333</td>\n",
       "      <td>1.412667</td>\n",
       "      <td>9804000.0</td>\n",
       "    </tr>\n",
       "    <tr>\n",
       "      <th>19</th>\n",
       "      <td>2010-07-26</td>\n",
       "      <td>1.396667</td>\n",
       "      <td>1.433333</td>\n",
       "      <td>13833000.0</td>\n",
       "    </tr>\n",
       "    <tr>\n",
       "      <th>20</th>\n",
       "      <td>2010-07-27</td>\n",
       "      <td>1.370000</td>\n",
       "      <td>1.394000</td>\n",
       "      <td>9295500.0</td>\n",
       "    </tr>\n",
       "  </tbody>\n",
       "</table>\n",
       "</div>"
      ],
      "text/plain": [
       "          Date     Close      Open       Volume\n",
       "1   2010-06-29  1.592667  1.266667  281494500.0\n",
       "2   2010-06-30  1.588667  1.719333  257806500.0\n",
       "3   2010-07-01  1.464000  1.666667  123282000.0\n",
       "4   2010-07-02  1.280000  1.533333   77097000.0\n",
       "5   2010-07-06  1.074000  1.333333  103003500.0\n",
       "6   2010-07-07  1.053333  1.093333  103825500.0\n",
       "7   2010-07-08  1.164000  1.076000  115671000.0\n",
       "8   2010-07-09  1.160000  1.172000   60759000.0\n",
       "9   2010-07-12  1.136667  1.196667   33037500.0\n",
       "10  2010-07-13  1.209333  1.159333   40201500.0\n",
       "11  2010-07-14  1.322667  1.196000   62928000.0\n",
       "12  2010-07-15  1.326000  1.329333   56097000.0\n",
       "13  2010-07-16  1.376000  1.380000   39319500.0\n",
       "14  2010-07-19  1.460667  1.424667   37297500.0\n",
       "15  2010-07-20  1.353333  1.456667   27379500.0\n",
       "16  2010-07-21  1.348000  1.377333   18787500.0\n",
       "17  2010-07-22  1.400000  1.366667   14367000.0\n",
       "18  2010-07-23  1.419333  1.412667    9804000.0\n",
       "19  2010-07-26  1.396667  1.433333   13833000.0\n",
       "20  2010-07-27  1.370000  1.394000    9295500.0"
      ]
     },
     "metadata": {},
     "output_type": "display_data"
    }
   ],
   "source": [
    "# remover as colunas id_planta e cidade_origem\n",
    "df_dataset = df_dataset.drop(columns=['High','Low'])\n",
    "\n",
    "# imprimir o dataframe\n",
    "display(df_dataset.head(n=20))"
   ]
  },
  {
   "cell_type": "markdown",
   "id": "d4ccb45d-b1da-4b42-9d1e-a782de5cd5dd",
   "metadata": {},
   "source": [
    "---\n",
    "## 3.2 Tratamento de atributos com valores ausentes\n",
    "\n",
    "Verificar se existem atributos com valores ausentes (NaN) na base de dados."
   ]
  },
  {
   "cell_type": "code",
   "execution_count": 82,
   "id": "beadba19-4ef1-489c-abfd-dcac32f386a6",
   "metadata": {},
   "outputs": [
    {
     "data": {
      "text/html": [
       "<div>\n",
       "<style scoped>\n",
       "    .dataframe tbody tr th:only-of-type {\n",
       "        vertical-align: middle;\n",
       "    }\n",
       "\n",
       "    .dataframe tbody tr th {\n",
       "        vertical-align: top;\n",
       "    }\n",
       "\n",
       "    .dataframe thead th {\n",
       "        text-align: right;\n",
       "    }\n",
       "</style>\n",
       "<table border=\"1\" class=\"dataframe\">\n",
       "  <thead>\n",
       "    <tr style=\"text-align: right;\">\n",
       "      <th></th>\n",
       "      <th>Date</th>\n",
       "      <th>Close</th>\n",
       "      <th>Open</th>\n",
       "      <th>Volume</th>\n",
       "    </tr>\n",
       "  </thead>\n",
       "  <tbody>\n",
       "  </tbody>\n",
       "</table>\n",
       "</div>"
      ],
      "text/plain": [
       "Empty DataFrame\n",
       "Columns: [Date, Close, Open, Volume]\n",
       "Index: []"
      ]
     },
     "metadata": {},
     "output_type": "display_data"
    }
   ],
   "source": [
    "# índices das linhas que contém valores NaN\n",
    "idxRowNan = pd.isnull(df_dataset).any(axis=1).to_numpy().nonzero()\n",
    "\n",
    "# imprime apenas as linhas com valores ausentes\n",
    "display(df_dataset.iloc[idxRowNan])"
   ]
  },
  {
   "cell_type": "code",
   "execution_count": 84,
   "id": "72e9a7e7-d267-43bf-8962-b012ee2a8dec",
   "metadata": {},
   "outputs": [
    {
     "name": "stdout",
     "output_type": "stream",
     "text": [
      "\n",
      "Objeto(s) com valor(es) nulo(s):\n"
     ]
    },
    {
     "data": {
      "text/html": [
       "<div>\n",
       "<style scoped>\n",
       "    .dataframe tbody tr th:only-of-type {\n",
       "        vertical-align: middle;\n",
       "    }\n",
       "\n",
       "    .dataframe tbody tr th {\n",
       "        vertical-align: top;\n",
       "    }\n",
       "\n",
       "    .dataframe thead th {\n",
       "        text-align: right;\n",
       "    }\n",
       "</style>\n",
       "<table border=\"1\" class=\"dataframe\">\n",
       "  <thead>\n",
       "    <tr style=\"text-align: right;\">\n",
       "      <th></th>\n",
       "      <th>Date</th>\n",
       "      <th>Close</th>\n",
       "      <th>Open</th>\n",
       "      <th>Volume</th>\n",
       "    </tr>\n",
       "  </thead>\n",
       "  <tbody>\n",
       "  </tbody>\n",
       "</table>\n",
       "</div>"
      ],
      "text/plain": [
       "Empty DataFrame\n",
       "Columns: [Date, Close, Open, Volume]\n",
       "Index: []"
      ]
     },
     "metadata": {},
     "output_type": "display_data"
    }
   ],
   "source": [
    "def trataFaltantes( df_dataset ):\n",
    "    \n",
    "    notNull_cl = df_dataset.loc[ ~pd.isnull(df_dataset['Close']), :]\n",
    "    notNull_op = df_dataset.loc[ ~pd.isnull(df_dataset['Open']), :]\n",
    "    notNull_vol = df_dataset.loc[ ~pd.isnull(df_dataset['Volume']), :]\n",
    "\n",
    "    media_cl = notNull_cl['Close'].mean()\n",
    "    media_op = notNull_op['Open'].mean()\n",
    "    media_vol = notNull_vol['Volume'].mean()\n",
    "\n",
    "    # substitui os valores nulos pela média\n",
    "    df_dataset.loc[ pd.isnull(df_dataset['Close']), 'Close'] = media_cl\n",
    "    # substitui os valores nulos pela média\n",
    "    df_dataset.loc[ pd.isnull(df_dataset['Open']), 'Open'] = media_op\n",
    "    df_dataset.loc[ pd.isnull(df_dataset['Volume']), 'Volume'] = media_vol\n",
    "    \n",
    "    return df_dataset\n",
    "\n",
    "trataFaltantes( df_dataset )\n",
    "    \n",
    "# imprime apenas as linhas que antes possuíam valores NaN\n",
    "print('\\nObjeto(s) com valor(es) nulo(s):')\n",
    "display(df_dataset.iloc[idxRowNan])"
   ]
  },
  {
   "cell_type": "markdown",
   "id": "84eada6d-c1f5-4ced-a36a-0f3518156e18",
   "metadata": {},
   "source": [
    "## 3.3 Tratamento de dados inconsistentes ou redundantes\n",
    "\n",
    "Verificar se existem dados inconsistentes ou redundantes. A forma mais comum de inconsistência é quando há registros representados por atributos com todos os valores iguais, mas com diagnóstico diferentes. A redundância é dada pela repetição de linhas na base de dados."
   ]
  },
  {
   "cell_type": "code",
   "execution_count": 86,
   "id": "aefc4bcb-41ed-4a9c-8ba6-f0db21fdea02",
   "metadata": {},
   "outputs": [
    {
     "name": "stdout",
     "output_type": "stream",
     "text": [
      "Não existem objetos redundantes e/ou inconsistentes!\n"
     ]
    }
   ],
   "source": [
    "df_duplicates = df_dataset[ df_dataset.duplicated(subset=['Date','Open','Close','Volume'],keep=False)] \n",
    "\n",
    "# se houver valores redundantes ou inconsistentes, imprima \n",
    "if len(df_duplicates) > 0:\n",
    "    print('\\nObjeto(s) redundante(s) e/ou inconsistente(s):')\n",
    "    display(df_duplicates)\n",
    "else:\n",
    "    print('Não existem objetos redundantes e/ou inconsistentes!')"
   ]
  },
  {
   "cell_type": "markdown",
   "id": "6b4af03d-49e4-4c50-8aa8-23706bea08f9",
   "metadata": {},
   "source": [
    "Se existirem objetos redundantes (duplicados) e outros inconsistentes (iguais, exceto diagnóstico distintos). \n",
    "\n",
    "Primeiro, serão removidos os registros redundantes, mantendo na base apenas o primeiro deles."
   ]
  },
  {
   "cell_type": "code",
   "execution_count": 89,
   "id": "d35b9e65-a5e1-4d4e-93b0-0a40dedeeb4c",
   "metadata": {},
   "outputs": [],
   "source": [
    "def delDuplicatas( df_dataset ):\n",
    "    \n",
    "    # remove o(s) objeto(s) duplicado(s), mantendo apenas a primeira ocorrência\n",
    "    df_dataset = df_dataset.drop_duplicates(keep = 'first')\n",
    "\n",
    "    return df_dataset\n",
    "\n",
    "df_dataset = delDuplicatas( df_dataset )"
   ]
  },
  {
   "cell_type": "markdown",
   "id": "85529a50-3725-4da9-9acd-6916567bb5e3",
   "metadata": {},
   "source": [
    "Após remover os objetos redundantes, é preciso checar se há registros inconsistentes."
   ]
  },
  {
   "cell_type": "code",
   "execution_count": 94,
   "id": "8b64ba69-f768-4756-bb19-1633e4360320",
   "metadata": {},
   "outputs": [
    {
     "name": "stdout",
     "output_type": "stream",
     "text": [
      "Não existem objetos redundantes e/ou inconsistentes!\n"
     ]
    }
   ],
   "source": [
    "df_duplicates = df_dataset[ df_dataset.duplicated(subset=['Date','Open','Close','Volume'],keep=False)] \n",
    "\n",
    "# se existir objetos inconsistentes, exibir\n",
    "if len(df_duplicates)>0:\n",
    "    print('\\nObjeto(s) inconsistente(s):')\n",
    "    display(df_duplicates)\n",
    "else:\n",
    "    print('Não existem objetos redundantes e/ou inconsistentes!')\n",
    "    "
   ]
  },
  {
   "cell_type": "code",
   "execution_count": 96,
   "id": "52c17085-026d-4c85-a115-c681ae7c721b",
   "metadata": {},
   "outputs": [
    {
     "data": {
      "text/html": [
       "<div>\n",
       "<style scoped>\n",
       "    .dataframe tbody tr th:only-of-type {\n",
       "        vertical-align: middle;\n",
       "    }\n",
       "\n",
       "    .dataframe tbody tr th {\n",
       "        vertical-align: top;\n",
       "    }\n",
       "\n",
       "    .dataframe thead th {\n",
       "        text-align: right;\n",
       "    }\n",
       "</style>\n",
       "<table border=\"1\" class=\"dataframe\">\n",
       "  <thead>\n",
       "    <tr style=\"text-align: right;\">\n",
       "      <th></th>\n",
       "      <th>Date</th>\n",
       "      <th>Close</th>\n",
       "      <th>Open</th>\n",
       "      <th>Volume</th>\n",
       "    </tr>\n",
       "  </thead>\n",
       "  <tbody>\n",
       "    <tr>\n",
       "      <th>3688</th>\n",
       "      <td>2025-02-25</td>\n",
       "      <td>302.799988</td>\n",
       "      <td>327.019989</td>\n",
       "      <td>134228800.0</td>\n",
       "    </tr>\n",
       "    <tr>\n",
       "      <th>3689</th>\n",
       "      <td>2025-02-26</td>\n",
       "      <td>290.799988</td>\n",
       "      <td>303.709991</td>\n",
       "      <td>100118300.0</td>\n",
       "    </tr>\n",
       "    <tr>\n",
       "      <th>3690</th>\n",
       "      <td>2025-02-27</td>\n",
       "      <td>281.950012</td>\n",
       "      <td>291.160004</td>\n",
       "      <td>101748200.0</td>\n",
       "    </tr>\n",
       "    <tr>\n",
       "      <th>3691</th>\n",
       "      <td>2025-02-28</td>\n",
       "      <td>292.980011</td>\n",
       "      <td>279.500000</td>\n",
       "      <td>115397200.0</td>\n",
       "    </tr>\n",
       "    <tr>\n",
       "      <th>3692</th>\n",
       "      <td>2025-03-03</td>\n",
       "      <td>302.339996</td>\n",
       "      <td>300.367004</td>\n",
       "      <td>52912315.0</td>\n",
       "    </tr>\n",
       "  </tbody>\n",
       "</table>\n",
       "</div>"
      ],
      "text/plain": [
       "            Date       Close        Open       Volume\n",
       "3688  2025-02-25  302.799988  327.019989  134228800.0\n",
       "3689  2025-02-26  290.799988  303.709991  100118300.0\n",
       "3690  2025-02-27  281.950012  291.160004  101748200.0\n",
       "3691  2025-02-28  292.980011  279.500000  115397200.0\n",
       "3692  2025-03-03  302.339996  300.367004   52912315.0"
      ]
     },
     "metadata": {},
     "output_type": "display_data"
    }
   ],
   "source": [
    "display(df_dataset.tail())"
   ]
  },
  {
   "cell_type": "markdown",
   "id": "bc6326e6-5a50-4c44-b874-1756be1e1afe",
   "metadata": {},
   "source": [
    "---\n",
    "## 4 Análise dos Dados\n",
    "\n",
    "A análise das características presentes em um conjunto de dados permite a descoberta de padrões e tendências que podem fornecer informações valiosas para compreender o processo que gerou os dados."
   ]
  },
  {
   "cell_type": "code",
   "execution_count": 99,
   "id": "9adca2f2-328b-415b-bf5f-8203c0f60c88",
   "metadata": {},
   "outputs": [
    {
     "data": {
      "text/html": [
       "<div>\n",
       "<style scoped>\n",
       "    .dataframe tbody tr th:only-of-type {\n",
       "        vertical-align: middle;\n",
       "    }\n",
       "\n",
       "    .dataframe tbody tr th {\n",
       "        vertical-align: top;\n",
       "    }\n",
       "\n",
       "    .dataframe thead th {\n",
       "        text-align: right;\n",
       "    }\n",
       "</style>\n",
       "<table border=\"1\" class=\"dataframe\">\n",
       "  <thead>\n",
       "    <tr style=\"text-align: right;\">\n",
       "      <th></th>\n",
       "      <th>Close</th>\n",
       "      <th>Open</th>\n",
       "      <th>Volume</th>\n",
       "    </tr>\n",
       "  </thead>\n",
       "  <tbody>\n",
       "    <tr>\n",
       "      <th>count</th>\n",
       "      <td>3692.000000</td>\n",
       "      <td>3692.000000</td>\n",
       "      <td>3.692000e+03</td>\n",
       "    </tr>\n",
       "    <tr>\n",
       "      <th>mean</th>\n",
       "      <td>84.684063</td>\n",
       "      <td>84.724803</td>\n",
       "      <td>9.647972e+07</td>\n",
       "    </tr>\n",
       "    <tr>\n",
       "      <th>std</th>\n",
       "      <td>111.289879</td>\n",
       "      <td>111.413059</td>\n",
       "      <td>7.736170e+07</td>\n",
       "    </tr>\n",
       "    <tr>\n",
       "      <th>min</th>\n",
       "      <td>1.053333</td>\n",
       "      <td>1.076000</td>\n",
       "      <td>1.777500e+06</td>\n",
       "    </tr>\n",
       "    <tr>\n",
       "      <th>25%</th>\n",
       "      <td>12.226501</td>\n",
       "      <td>12.238833</td>\n",
       "      <td>4.938900e+07</td>\n",
       "    </tr>\n",
       "    <tr>\n",
       "      <th>50%</th>\n",
       "      <td>18.326334</td>\n",
       "      <td>18.325000</td>\n",
       "      <td>8.192955e+07</td>\n",
       "    </tr>\n",
       "    <tr>\n",
       "      <th>75%</th>\n",
       "      <td>182.869999</td>\n",
       "      <td>182.982506</td>\n",
       "      <td>1.216402e+08</td>\n",
       "    </tr>\n",
       "    <tr>\n",
       "      <th>max</th>\n",
       "      <td>479.859985</td>\n",
       "      <td>475.899994</td>\n",
       "      <td>9.140820e+08</td>\n",
       "    </tr>\n",
       "  </tbody>\n",
       "</table>\n",
       "</div>"
      ],
      "text/plain": [
       "             Close         Open        Volume\n",
       "count  3692.000000  3692.000000  3.692000e+03\n",
       "mean     84.684063    84.724803  9.647972e+07\n",
       "std     111.289879   111.413059  7.736170e+07\n",
       "min       1.053333     1.076000  1.777500e+06\n",
       "25%      12.226501    12.238833  4.938900e+07\n",
       "50%      18.326334    18.325000  8.192955e+07\n",
       "75%     182.869999   182.982506  1.216402e+08\n",
       "max     479.859985   475.899994  9.140820e+08"
      ]
     },
     "metadata": {},
     "output_type": "display_data"
    }
   ],
   "source": [
    "# apresenta as principais estatísticas da base de dados para atributos numéricos\n",
    "df_detalhes = df_dataset.describe()\n",
    "\n",
    "display(df_detalhes)"
   ]
  },
  {
   "cell_type": "markdown",
   "id": "53d84fb4-dd04-449a-b393-0339fb768a46",
   "metadata": {},
   "source": [
    "---\n",
    "## 4.1 Detecção de outliers (valor atípico)\n",
    "\n",
    "Outro passo importante na análise e tratamento dos dados é a detecção de outliers (dados gerados por leituras incorretas, erros de digitação etc).\n",
    "\n",
    "Gráfico Box Plot\n",
    "\n",
    "Uma das maneiras mais simples de verificar se os dados contém outliers."
   ]
  },
  {
   "cell_type": "code",
   "execution_count": 102,
   "id": "7ce1f942-9007-40cd-8843-44419e7b24c8",
   "metadata": {},
   "outputs": [
    {
     "data": {
      "image/png": "[encoded data removed]",
      "text/plain": [
       "<Figure size 1500x700 with 1 Axes>"
      ]
     },
     "metadata": {},
     "output_type": "display_data"
    }
   ],
   "source": [
    "# gerar um bloxplot para cada atributo\n",
    "df_dataset.boxplot(figsize=(15,7))\n",
    "plt.show()"
   ]
  },
  {
   "cell_type": "markdown",
   "id": "a2891d81-7490-4f5c-a009-660329ad6aaa",
   "metadata": {},
   "source": [
    "O box plot está indicando que o atributo volume possui outliers, o que pode prejudicar o desempenho de vários métodos de aprendizado de máquina, pois tratam-se de objetos com valores de atributos incorretos."
   ]
  },
  {
   "cell_type": "code",
   "execution_count": 105,
   "id": "ad1e9633-2b79-47a9-94d2-1c8111106cad",
   "metadata": {},
   "outputs": [
    {
     "ename": "TypeError",
     "evalue": "unsupported operand type(s) for -: 'str' and 'str'",
     "output_type": "error",
     "traceback": [
      "\u001b[1;31m---------------------------------------------------------------------------\u001b[0m",
      "\u001b[1;31mTypeError\u001b[0m                                 Traceback (most recent call last)",
      "Cell \u001b[1;32mIn[105], line 20\u001b[0m\n\u001b[0;32m     17\u001b[0m     \u001b[38;5;28;01mreturn\u001b[39;00m df_dataset\n\u001b[0;32m     19\u001b[0m \u001b[38;5;66;03m# remove os outliers\u001b[39;00m\n\u001b[1;32m---> 20\u001b[0m df_dataset \u001b[38;5;241m=\u001b[39m removeOutliers( df_dataset )\n\u001b[0;32m     22\u001b[0m \u001b[38;5;66;03m# apresenta as principais estatísticas sobre a base de dados\u001b[39;00m\n\u001b[0;32m     23\u001b[0m df_dataset\u001b[38;5;241m.\u001b[39mboxplot(figsize\u001b[38;5;241m=\u001b[39m(\u001b[38;5;241m15\u001b[39m,\u001b[38;5;241m7\u001b[39m))\n",
      "Cell \u001b[1;32mIn[105], line 9\u001b[0m, in \u001b[0;36mremoveOutliers\u001b[1;34m(df_dataset)\u001b[0m\n\u001b[0;32m      2\u001b[0m \u001b[38;5;250m\u001b[39m\u001b[38;5;124;03m\"\"\"\u001b[39;00m\n\u001b[0;32m      3\u001b[0m \u001b[38;5;124;03mRemove os outliers da base de dados \u001b[39;00m\n\u001b[0;32m      4\u001b[0m \u001b[38;5;124;03m\"\"\"\u001b[39;00m\n\u001b[0;32m      6\u001b[0m \u001b[38;5;28;01mfor\u001b[39;00m atributo \u001b[38;5;129;01min\u001b[39;00m df_dataset\u001b[38;5;241m.\u001b[39mcolumns[:\u001b[38;5;241m-\u001b[39m\u001b[38;5;241m1\u001b[39m]:\n\u001b[0;32m      7\u001b[0m \n\u001b[0;32m      8\u001b[0m     \u001b[38;5;66;03m# obtem o terceiro e o primeiro quartil. \u001b[39;00m\n\u001b[1;32m----> 9\u001b[0m     q75, q25 \u001b[38;5;241m=\u001b[39m np\u001b[38;5;241m.\u001b[39mpercentile(df_dataset[atributo]\u001b[38;5;241m.\u001b[39mvalues, [\u001b[38;5;241m75\u001b[39m ,\u001b[38;5;241m25\u001b[39m])\n\u001b[0;32m     11\u001b[0m     \u001b[38;5;66;03m# calcula o IQR\u001b[39;00m\n\u001b[0;32m     12\u001b[0m     IQR \u001b[38;5;241m=\u001b[39m q75 \u001b[38;5;241m-\u001b[39m q25\n",
      "File \u001b[1;32m~\\anaconda3\\Lib\\site-packages\\numpy\\lib\\function_base.py:4283\u001b[0m, in \u001b[0;36mpercentile\u001b[1;34m(a, q, axis, out, overwrite_input, method, keepdims, interpolation)\u001b[0m\n\u001b[0;32m   4281\u001b[0m \u001b[38;5;28;01mif\u001b[39;00m \u001b[38;5;129;01mnot\u001b[39;00m _quantile_is_valid(q):\n\u001b[0;32m   4282\u001b[0m     \u001b[38;5;28;01mraise\u001b[39;00m \u001b[38;5;167;01mValueError\u001b[39;00m(\u001b[38;5;124m\"\u001b[39m\u001b[38;5;124mPercentiles must be in the range [0, 100]\u001b[39m\u001b[38;5;124m\"\u001b[39m)\n\u001b[1;32m-> 4283\u001b[0m \u001b[38;5;28;01mreturn\u001b[39;00m _quantile_unchecked(\n\u001b[0;32m   4284\u001b[0m     a, q, axis, out, overwrite_input, method, keepdims)\n",
      "File \u001b[1;32m~\\anaconda3\\Lib\\site-packages\\numpy\\lib\\function_base.py:4555\u001b[0m, in \u001b[0;36m_quantile_unchecked\u001b[1;34m(a, q, axis, out, overwrite_input, method, keepdims)\u001b[0m\n\u001b[0;32m   4547\u001b[0m \u001b[38;5;28;01mdef\u001b[39;00m \u001b[38;5;21m_quantile_unchecked\u001b[39m(a,\n\u001b[0;32m   4548\u001b[0m                         q,\n\u001b[0;32m   4549\u001b[0m                         axis\u001b[38;5;241m=\u001b[39m\u001b[38;5;28;01mNone\u001b[39;00m,\n\u001b[1;32m   (...)\u001b[0m\n\u001b[0;32m   4552\u001b[0m                         method\u001b[38;5;241m=\u001b[39m\u001b[38;5;124m\"\u001b[39m\u001b[38;5;124mlinear\u001b[39m\u001b[38;5;124m\"\u001b[39m,\n\u001b[0;32m   4553\u001b[0m                         keepdims\u001b[38;5;241m=\u001b[39m\u001b[38;5;28;01mFalse\u001b[39;00m):\n\u001b[0;32m   4554\u001b[0m \u001b[38;5;250m    \u001b[39m\u001b[38;5;124;03m\"\"\"Assumes that q is in [0, 1], and is an ndarray\"\"\"\u001b[39;00m\n\u001b[1;32m-> 4555\u001b[0m     \u001b[38;5;28;01mreturn\u001b[39;00m _ureduce(a,\n\u001b[0;32m   4556\u001b[0m                     func\u001b[38;5;241m=\u001b[39m_quantile_ureduce_func,\n\u001b[0;32m   4557\u001b[0m                     q\u001b[38;5;241m=\u001b[39mq,\n\u001b[0;32m   4558\u001b[0m                     keepdims\u001b[38;5;241m=\u001b[39mkeepdims,\n\u001b[0;32m   4559\u001b[0m                     axis\u001b[38;5;241m=\u001b[39maxis,\n\u001b[0;32m   4560\u001b[0m                     out\u001b[38;5;241m=\u001b[39mout,\n\u001b[0;32m   4561\u001b[0m                     overwrite_input\u001b[38;5;241m=\u001b[39moverwrite_input,\n\u001b[0;32m   4562\u001b[0m                     method\u001b[38;5;241m=\u001b[39mmethod)\n",
      "File \u001b[1;32m~\\anaconda3\\Lib\\site-packages\\numpy\\lib\\function_base.py:3823\u001b[0m, in \u001b[0;36m_ureduce\u001b[1;34m(a, func, keepdims, **kwargs)\u001b[0m\n\u001b[0;32m   3820\u001b[0m             index_out \u001b[38;5;241m=\u001b[39m (\u001b[38;5;241m0\u001b[39m, ) \u001b[38;5;241m*\u001b[39m nd\n\u001b[0;32m   3821\u001b[0m             kwargs[\u001b[38;5;124m'\u001b[39m\u001b[38;5;124mout\u001b[39m\u001b[38;5;124m'\u001b[39m] \u001b[38;5;241m=\u001b[39m out[(\u001b[38;5;28mEllipsis\u001b[39m, ) \u001b[38;5;241m+\u001b[39m index_out]\n\u001b[1;32m-> 3823\u001b[0m r \u001b[38;5;241m=\u001b[39m func(a, \u001b[38;5;241m*\u001b[39m\u001b[38;5;241m*\u001b[39mkwargs)\n\u001b[0;32m   3825\u001b[0m \u001b[38;5;28;01mif\u001b[39;00m out \u001b[38;5;129;01mis\u001b[39;00m \u001b[38;5;129;01mnot\u001b[39;00m \u001b[38;5;28;01mNone\u001b[39;00m:\n\u001b[0;32m   3826\u001b[0m     \u001b[38;5;28;01mreturn\u001b[39;00m out\n",
      "File \u001b[1;32m~\\anaconda3\\Lib\\site-packages\\numpy\\lib\\function_base.py:4722\u001b[0m, in \u001b[0;36m_quantile_ureduce_func\u001b[1;34m(a, q, axis, out, overwrite_input, method)\u001b[0m\n\u001b[0;32m   4720\u001b[0m     \u001b[38;5;28;01melse\u001b[39;00m:\n\u001b[0;32m   4721\u001b[0m         arr \u001b[38;5;241m=\u001b[39m a\u001b[38;5;241m.\u001b[39mcopy()\n\u001b[1;32m-> 4722\u001b[0m result \u001b[38;5;241m=\u001b[39m _quantile(arr,\n\u001b[0;32m   4723\u001b[0m                    quantiles\u001b[38;5;241m=\u001b[39mq,\n\u001b[0;32m   4724\u001b[0m                    axis\u001b[38;5;241m=\u001b[39maxis,\n\u001b[0;32m   4725\u001b[0m                    method\u001b[38;5;241m=\u001b[39mmethod,\n\u001b[0;32m   4726\u001b[0m                    out\u001b[38;5;241m=\u001b[39mout)\n\u001b[0;32m   4727\u001b[0m \u001b[38;5;28;01mreturn\u001b[39;00m result\n",
      "File \u001b[1;32m~\\anaconda3\\Lib\\site-packages\\numpy\\lib\\function_base.py:4841\u001b[0m, in \u001b[0;36m_quantile\u001b[1;34m(arr, quantiles, axis, method, out)\u001b[0m\n\u001b[0;32m   4839\u001b[0m     result_shape \u001b[38;5;241m=\u001b[39m virtual_indexes\u001b[38;5;241m.\u001b[39mshape \u001b[38;5;241m+\u001b[39m (\u001b[38;5;241m1\u001b[39m,) \u001b[38;5;241m*\u001b[39m (arr\u001b[38;5;241m.\u001b[39mndim \u001b[38;5;241m-\u001b[39m \u001b[38;5;241m1\u001b[39m)\n\u001b[0;32m   4840\u001b[0m     gamma \u001b[38;5;241m=\u001b[39m gamma\u001b[38;5;241m.\u001b[39mreshape(result_shape)\n\u001b[1;32m-> 4841\u001b[0m     result \u001b[38;5;241m=\u001b[39m _lerp(previous,\n\u001b[0;32m   4842\u001b[0m                    \u001b[38;5;28mnext\u001b[39m,\n\u001b[0;32m   4843\u001b[0m                    gamma,\n\u001b[0;32m   4844\u001b[0m                    out\u001b[38;5;241m=\u001b[39mout)\n\u001b[0;32m   4845\u001b[0m \u001b[38;5;28;01mif\u001b[39;00m np\u001b[38;5;241m.\u001b[39many(slices_having_nans):\n\u001b[0;32m   4846\u001b[0m     \u001b[38;5;28;01mif\u001b[39;00m result\u001b[38;5;241m.\u001b[39mndim \u001b[38;5;241m==\u001b[39m \u001b[38;5;241m0\u001b[39m \u001b[38;5;129;01mand\u001b[39;00m out \u001b[38;5;129;01mis\u001b[39;00m \u001b[38;5;28;01mNone\u001b[39;00m:\n\u001b[0;32m   4847\u001b[0m         \u001b[38;5;66;03m# can't write to a scalar, but indexing will be correct\u001b[39;00m\n",
      "File \u001b[1;32m~\\anaconda3\\Lib\\site-packages\\numpy\\lib\\function_base.py:4655\u001b[0m, in \u001b[0;36m_lerp\u001b[1;34m(a, b, t, out)\u001b[0m\n\u001b[0;32m   4641\u001b[0m \u001b[38;5;28;01mdef\u001b[39;00m \u001b[38;5;21m_lerp\u001b[39m(a, b, t, out\u001b[38;5;241m=\u001b[39m\u001b[38;5;28;01mNone\u001b[39;00m):\n\u001b[0;32m   4642\u001b[0m \u001b[38;5;250m    \u001b[39m\u001b[38;5;124;03m\"\"\"\u001b[39;00m\n\u001b[0;32m   4643\u001b[0m \u001b[38;5;124;03m    Compute the linear interpolation weighted by gamma on each point of\u001b[39;00m\n\u001b[0;32m   4644\u001b[0m \u001b[38;5;124;03m    two same shape array.\u001b[39;00m\n\u001b[1;32m   (...)\u001b[0m\n\u001b[0;32m   4653\u001b[0m \u001b[38;5;124;03m        Output array.\u001b[39;00m\n\u001b[0;32m   4654\u001b[0m \u001b[38;5;124;03m    \"\"\"\u001b[39;00m\n\u001b[1;32m-> 4655\u001b[0m     diff_b_a \u001b[38;5;241m=\u001b[39m subtract(b, a)\n\u001b[0;32m   4656\u001b[0m     \u001b[38;5;66;03m# asanyarray is a stop-gap until gh-13105\u001b[39;00m\n\u001b[0;32m   4657\u001b[0m     lerp_interpolation \u001b[38;5;241m=\u001b[39m asanyarray(add(a, diff_b_a \u001b[38;5;241m*\u001b[39m t, out\u001b[38;5;241m=\u001b[39mout))\n",
      "\u001b[1;31mTypeError\u001b[0m: unsupported operand type(s) for -: 'str' and 'str'"
     ]
    }
   ],
   "source": [
    "def removeOutliers(df_dataset):\n",
    "    \"\"\"\n",
    "    Remove os outliers da base de dados \n",
    "    \"\"\"\n",
    "    \n",
    "    for atributo in df_dataset.columns[:-1]:\n",
    "\n",
    "        # obtem o terceiro e o primeiro quartil. \n",
    "        q75, q25 = np.percentile(df_dataset[atributo].values, [75 ,25])\n",
    "        \n",
    "        # calcula o IQR\n",
    "        IQR = q75 - q25\n",
    "\n",
    "        # remove os outliers com base no valor do IQR\n",
    "        df_dataset = df_dataset[ (df_dataset[atributo]<=(q75+1.5*IQR)) & (df_dataset[atributo]>=(q25-1.5*IQR)) ]\n",
    "    \n",
    "    return df_dataset\n",
    "\n",
    "# remove os outliers\n",
    "df_dataset = removeOutliers( df_dataset )\n",
    "\n",
    "# apresenta as principais estatísticas sobre a base de dados\n",
    "df_dataset.boxplot(figsize=(15,7))\n",
    "plt.show()"
   ]
  },
  {
   "cell_type": "code",
   "execution_count": null,
   "id": "72d2a56c-8348-4bae-9244-0ecded71de7b",
   "metadata": {},
   "outputs": [],
   "source": []
  }
 ],
 "metadata": {
  "kernelspec": {
   "display_name": "Python [conda env:base] *",
   "language": "python",
   "name": "conda-base-py"
  },
  "language_info": {
   "codemirror_mode": {
    "name": "ipython",
    "version": 3
   },
   "file_extension": ".py",
   "mimetype": "text/x-python",
   "name": "python",
   "nbconvert_exporter": "python",
   "pygments_lexer": "ipython3",
   "version": "3.12.7"
  }
 },
 "nbformat": 4,
 "nbformat_minor": 5
}

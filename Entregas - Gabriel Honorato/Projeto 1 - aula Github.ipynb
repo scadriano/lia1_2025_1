{
  "nbformat": 4,
  "nbformat_minor": 0,
  "metadata": {
    "colab": {
      "provenance": [],
      "authorship_tag": "ABX9TyPyyptk5Np+MAuefvmsW+oM",
      "include_colab_link": true
    },
    "kernelspec": {
      "name": "python3",
      "display_name": "Python 3"
    },
    "language_info": {
      "name": "python"
    }
  },
  "cells": [
    {
      "cell_type": "markdown",
      "metadata": {
        "id": "view-in-github",
        "colab_type": "text"
      },
      "source": [
        "<a href=\"https://colab.research.google.com/github/GabrielPKJK/lia1_2025_1/blob/main/Entregas%20-%20Gabriel%20Honorato/Projeto%201%20-%20aula%20Github.ipynb\" target=\"_parent\"><img src=\"https://colab.research.google.com/assets/colab-badge.svg\" alt=\"Open In Colab\"/></a>"
      ]
    },
    {
      "cell_type": "code",
      "execution_count": 1,
      "metadata": {
        "colab": {
          "base_uri": "https://localhost:8080/"
        },
        "id": "v2ZvY8iWbkgz",
        "outputId": "f6eb4675-a3a0-48ab-cac6-2ee536873ab8"
      },
      "outputs": [
        {
          "output_type": "stream",
          "name": "stdout",
          "text": [
            "batata\n"
          ]
        }
      ],
      "source": [
        "print(\"batata\")"
      ]
    }
  ]
}
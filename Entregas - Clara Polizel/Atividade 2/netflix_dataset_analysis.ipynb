{
 "cells": [
  {
   "cell_type": "markdown",
   "id": "a9f64a38-199a-4b4c-a88c-76f478d8345e",
   "metadata": {},
   "source": [
    "<hr style=\"height:10px\"> \n",
    " \n",
    "<div class='container2'>\n",
    "\t\t<div>\n",
    "\t\t\t<img src='imagem IA.png'ALIGN= 'left' style='width:10em'>\n",
    "\t\t</div>\t\n",
    "\t<div style='padding: 0 7em 2em 12em;'>\n",
    "\t<h1>Laboratório de Inovação e Automação 1 (LIA 1)</h1>\n",
    "\t<div style=\"font-size:12pt;float:left;\"> 2025/1 | 46M34 | Sala 200 CAE</div><br><br>\n",
    "    <div style=\"font-size:12pt;float:left;\"><b>Projetos de Inteligência Artificial - Análise Exploratória de Dados </b></div>\n",
    "\t</div>\n",
    "</div>\n",
    "\n",
    "\n",
    " <hr style=\"height:5px\"> \n",
    "\n",
    "    \n",
    "<h2>Aula 7 - Introdução à Ciência de Dados - <a href=\"https://www.kaggle.com/datasets/bhargavchirumamilla/netflix-movies-and-tv-shows-till-2025?resource=download\">Netflix Movies and TV shows till 2025 Dataset</a> </h2>\n",
    "\n",
    "Notebook desenvolvido por: Clara Hilbert Polizel</a>\n",
    "\n",
    " <hr style=\"height:2px\"> "
   ]
  },
  {
   "cell_type": "code",
   "execution_count": null,
   "id": "cb6cb814-3f10-440a-927b-47c8a44292b7",
   "metadata": {},
   "outputs": [],
   "source": [
    "import matplotlib.pyplot as plt\n",
    "import matplotlib.image as mpimg\n",
    "\n",
    "# Carrega a imagem\n",
    "img = mpimg.imread('dataset-cover.jpg')\n",
    "\n",
    "# Cria uma figura centralizada\n",
    "plt.figure(figsize=(11, 8))\n",
    "plt.imshow(img)\n",
    "plt.axis('off')  # Oculta os eixos\n",
    "plt.tight_layout()\n",
    "plt.show()"
   ]
  },
  {
   "cell_type": "markdown",
   "id": "8148ac8a-4833-4028-80af-96f0668847df",
   "metadata": {},
   "source": [
    "## Sobre o Conjunto de Dados  \n",
    "\n",
    "Este conjunto de dados contém informações sobre filmes e séries da Netflix, extraídas do TMDb (The Movie Database). Inclui detalhes como títulos, gêneros, datas de lançamento, classificações e descrições.  \n",
    "\n",
    "### **Possíveis Usos:**  \n",
    "Análises de conteúdo, descoberta de tendências e desenvolvimento de modelos de recomendação."
   ]
  },
  {
   "cell_type": "markdown",
   "id": "27633866-2d76-4b38-997a-24725285b193",
   "metadata": {},
   "source": [
    "#### Agora, vamos importar as bibliotecas que serão necessárias para a análise:"
   ]
  },
  {
   "cell_type": "code",
   "execution_count": null,
   "id": "dc9076b5-567b-4a60-925b-d99c4b2c5ad6",
   "metadata": {},
   "outputs": [],
   "source": [
    "# -*- coding: utf-8 -*-\n",
    "\n",
    "# importar a biblioteca usada para trabalhar com vetores e matrizes\n",
    "import numpy as np\n",
    "\n",
    "# importar a biblioteca usada para trabalhar com dataframes (dados em formato de tabela) e análise de dados\n",
    "import pandas as pd \n",
    "\n",
    "# importar as bibliotecas usadas para geração de gráficos\n",
    "import seaborn as sns\n",
    "import matplotlib.pyplot as plt\n",
    "\n",
    "print('Bibliotecas carregadas com sucesso!')"
   ]
  },
  {
   "cell_type": "markdown",
   "id": "b9fc0449-694f-4ce7-9166-c809cf895c3f",
   "metadata": {},
   "source": [
    "#### Com as bibliotecas carregadas, agora importamos o dataset:"
   ]
  },
  {
   "cell_type": "code",
   "execution_count": null,
   "id": "da3e675a-b173-4fe8-9a43-e44dcfc17e11",
   "metadata": {},
   "outputs": [],
   "source": [
    "# importar o arquivo e guardar em um dataframe do Pandas\n",
    "df_dataset = pd.read_csv ( 'netflix_movies_detailed_up_to_2025.csv', sep=',', index_col=None)\n",
    "\n",
    "print('Dados importados com sucesso!')"
   ]
  },
  {
   "cell_type": "markdown",
   "id": "5d045bd6-2b19-4ef0-9ff8-21c23fae5d0d",
   "metadata": {},
   "source": [
    "#### Vamos dar uma olhada na base de dados:"
   ]
  },
  {
   "cell_type": "code",
   "execution_count": null,
   "id": "d2856f8a-46ce-4d2d-af99-902184f5ed13",
   "metadata": {},
   "outputs": [],
   "source": [
    "# exibir uma amostra do dataframe\n",
    "#display(df_dataset.head())\n",
    "display(df_dataset)"
   ]
  },
  {
   "cell_type": "markdown",
   "id": "162f905e-3395-4bb0-88be-35126d5489d2",
   "metadata": {},
   "source": [
    "##### Podemos também olhar somente as 5 primeiras linhas:"
   ]
  },
  {
   "cell_type": "code",
   "execution_count": null,
   "id": "9c1651e3-41d8-4fae-8013-2bb983043666",
   "metadata": {},
   "outputs": [],
   "source": [
    "# exibir uma amostra do dataframe\n",
    "display(df_dataset.head())\n",
    "#display(df_dataset)"
   ]
  },
  {
   "cell_type": "markdown",
   "id": "71614cd3-2d5b-4513-aea1-2cd3c998a4e9",
   "metadata": {},
   "source": [
    "##### Ou as 5 últimas:"
   ]
  },
  {
   "cell_type": "code",
   "execution_count": null,
   "id": "73c3289c-d4fc-4917-90f3-bace194bc56f",
   "metadata": {},
   "outputs": [],
   "source": [
    "# exibir uma amostra do dataframe\n",
    "display(df_dataset.tail())\n",
    "#display(df_dataset)"
   ]
  },
  {
   "cell_type": "markdown",
   "id": "a85b8856-f888-47e6-bbf2-6b1e0b24a049",
   "metadata": {},
   "source": [
    "#### Agora, na etapa de pré processamento, vamos eliminar atributos irrelevantes, tratar atributos com valores ausentes e dados inconsistentes ou redundantes."
   ]
  },
  {
   "cell_type": "markdown",
   "id": "714bed63-c379-4c6b-8294-543d1977d6e7",
   "metadata": {},
   "source": [
    "##### Eliminação de atributos irrelevantes:"
   ]
  },
  {
   "cell_type": "code",
   "execution_count": null,
   "id": "934f028c-e2d2-468a-ad01-fcf6691dd62f",
   "metadata": {},
   "outputs": [],
   "source": [
    "# remover as colunas \n",
    "df_dataset = df_dataset.drop(columns=[\n",
    "    \"show_id\", \"director\", \"cast\", \"country\", \"date_added\", \"language\",  \n",
    "    \"description\", \"vote_count\", \"vote_average\", \"budget\", \"revenue\", \"duration\"  \n",
    "])\n",
    "\n",
    "\n",
    "# imprimir o dataframe\n",
    "display(df_dataset.head(n=20))"
   ]
  },
  {
   "cell_type": "markdown",
   "id": "53d88880-ffd9-4e16-88dd-7f5b399ca584",
   "metadata": {},
   "source": [
    "##### Tratamento de atributos com valores ausentes:"
   ]
  },
  {
   "cell_type": "markdown",
   "id": "da150f1e-77f0-4dfc-92e0-caa117c00e47",
   "metadata": {},
   "source": [
    "Primeiro identificamos os atributos:"
   ]
  },
  {
   "cell_type": "code",
   "execution_count": null,
   "id": "04d6b063-bf89-4e2d-a2ae-afbbb251884b",
   "metadata": {},
   "outputs": [],
   "source": [
    "# índices das linhas que contém valores NaN\n",
    "idxRowNan = pd.isnull(df_dataset).any(axis=1).to_numpy().nonzero()\n",
    "\n",
    "# imprime apenas as linhas com valores ausentes\n",
    "display(df_dataset.iloc[idxRowNan])"
   ]
  },
  {
   "cell_type": "code",
   "execution_count": null,
   "id": "a138a51e-4abb-447f-b1cf-a0601962d9c2",
   "metadata": {},
   "outputs": [],
   "source": [
    "# Remover as linhas onde 'genres' está vazio ou é NaN\n",
    "df_dataset = df_dataset[df_dataset[\"genres\"].notna()]\n",
    "\n",
    "# Exibir o resultado para verificar se as linhas com NaN foram removidas\n",
    "print(\"\\nLinhas com 'NaN' em 'genres' removidas:\")\n",
    "display(df_dataset)"
   ]
  },
  {
   "cell_type": "markdown",
   "id": "f261d97b-2b1a-4dcf-a80f-144167bf9c12",
   "metadata": {},
   "source": [
    "##### Tratamento de dados inconsistentes ou redundantes:"
   ]
  },
  {
   "cell_type": "code",
   "execution_count": null,
   "id": "0c81052e-3fc3-42ac-8fa2-8a51a8bfc2bf",
   "metadata": {},
   "outputs": [],
   "source": [
    "# Identificar duplicatas nas colunas 'title', 'release_year', e 'genres'\n",
    "df_duplicates = df_dataset[df_dataset.duplicated(subset=['title', 'release_year', 'genres'], keep=False)]\n",
    "\n",
    "# Se houver valores redundantes ou inconsistentes, imprima\n",
    "if len(df_duplicates) > 0:\n",
    "    print('\\nObjeto(s) redundante(s) e/ou inconsistente(s):')\n",
    "    display(df_duplicates)\n",
    "else:\n",
    "    print('Não existem objetos redundantes e/ou inconsistentes!')\n"
   ]
  },
  {
   "cell_type": "markdown",
   "id": "ee404064-a045-4f54-98f5-710b73359ce7",
   "metadata": {},
   "source": [
    "Agora, vamos remover esses objetos redundantes:"
   ]
  },
  {
   "cell_type": "code",
   "execution_count": null,
   "id": "35ea3e0d-596a-4b05-af00-75b6e9b33b53",
   "metadata": {},
   "outputs": [],
   "source": [
    "def delDuplicatas( df_dataset ):\n",
    "    \n",
    "    # remove o(s) objeto(s) duplicado(s), mantendo apenas a primeira ocorrência\n",
    "    df_dataset = df_dataset.drop_duplicates(keep = 'first')\n",
    "\n",
    "    return df_dataset\n",
    "\n",
    "df_dataset = delDuplicatas( df_dataset )"
   ]
  },
  {
   "cell_type": "markdown",
   "id": "0182c65c-eb11-46fe-b1b3-52a48581b562",
   "metadata": {},
   "source": [
    "Agora vamos checar dados inconsistentes:"
   ]
  },
  {
   "cell_type": "code",
   "execution_count": null,
   "id": "61262cc4-5774-4cc9-90e0-130821ce59af",
   "metadata": {},
   "outputs": [],
   "source": [
    "# Identificar duplicatas nas colunas 'title', 'release_year', e 'genres'\n",
    "df_duplicates = df_dataset[df_dataset.duplicated(subset=['title', 'release_year', 'genres'], keep=False)]\n",
    "\n",
    "# Se existirem objetos inconsistentes, exibir\n",
    "if len(df_duplicates) > 0:\n",
    "    print('\\nObjeto(s) inconsistente(s):')\n",
    "    display(df_duplicates)\n",
    "else:\n",
    "    print('Não existem objetos redundantes e/ou inconsistentes!')\n"
   ]
  },
  {
   "cell_type": "code",
   "execution_count": null,
   "id": "df97de81-16e0-475f-85a9-12662a676061",
   "metadata": {},
   "outputs": [],
   "source": [
    "def delInconsistencias(df_dataset):\n",
    "    # Remove duplicatas com base nas colunas 'title', 'release_year', e 'genres'\n",
    "    df_dataset = df_dataset.drop_duplicates(subset=['title', 'release_year', 'genres'], keep=False)\n",
    "  \n",
    "    return df_dataset\n",
    "\n",
    "# Aplicar a função para eliminar inconsistências\n",
    "df_dataset = delInconsistencias(df_dataset)\n",
    "\n",
    "# Obter as amostras onde os valores dos atributos estão duplicados\n",
    "df_duplicates = df_dataset[df_dataset.duplicated(subset=['title', 'release_year', 'genres'], keep=False)]\n",
    "\n",
    "# Se existir registros redundantes ou inconsistentes, exibir\n",
    "if len(df_duplicates) > 0:\n",
    "    display(df_duplicates)\n",
    "else:\n",
    "    print('Não existem registros redundantes e/ou inconsistentes! :)')\n"
   ]
  },
  {
   "cell_type": "markdown",
   "id": "3a65bae8-6e3e-43c2-bc29-1cb7de463b9c",
   "metadata": {},
   "source": [
    "Pronto, agora podemos iniciar nossa análise de dados!"
   ]
  },
  {
   "cell_type": "markdown",
   "id": "9cd1794c-904e-423a-b524-c5539a65da35",
   "metadata": {},
   "source": [
    "#### Análise de dados:"
   ]
  },
  {
   "cell_type": "code",
   "execution_count": null,
   "id": "d5176b1d-1144-4689-9cd3-9351c40aeeef",
   "metadata": {},
   "outputs": [],
   "source": [
    "# apresenta as principais estatísticas da base de dados para atributos numéricos\n",
    "df_detalhes = df_dataset.describe()\n",
    "\n",
    "display(df_detalhes)"
   ]
  },
  {
   "cell_type": "markdown",
   "id": "e0011ba2-ff86-42ca-91a6-cc5f18c2f940",
   "metadata": {},
   "source": [
    "Outro passo importante na análise e tratamento dos dados é a detecção de outliers (dados gerados por leituras incorretas, erros de digitação etc):"
   ]
  },
  {
   "cell_type": "markdown",
   "id": "076fed55-f7a5-4621-9e7e-faccff84256d",
   "metadata": {},
   "source": [
    "Como nem todos esses dados são numéricos, uma forma interessante de detectar outliers é o IQR:"
   ]
  },
  {
   "cell_type": "code",
   "execution_count": null,
   "id": "489094e1-b0cf-4207-bb20-56e0d8f1c6dc",
   "metadata": {},
   "outputs": [],
   "source": [
    "def detect_outliers_iqr(df_dataset):\n",
    "    outliers = {}\n",
    "    \n",
    "    for column in df_dataset.select_dtypes(include=[np.number]).columns:\n",
    "        q25 = df_dataset[column].quantile(0.25)\n",
    "        q75 = df_dataset[column].quantile(0.75)\n",
    "        iqr = q75 - q25\n",
    "        \n",
    "        # Define limites para outliers\n",
    "        lower_bound = q25 - 1.5 * iqr\n",
    "        upper_bound = q75 + 1.5 * iqr\n",
    "        \n",
    "        # Identifica os outliers\n",
    "        outliers[column] = df_dataset[(df_dataset[column] < lower_bound) | (df_dataset[column] > upper_bound)]\n",
    "    \n",
    "    return outliers\n",
    "\n",
    "outliers_iqr = detect_outliers_iqr(df_dataset)\n",
    "\n",
    "# Mostrar os outliers para cada coluna\n",
    "for column, data in outliers_iqr.items():\n",
    "    if len(data) > 0:\n",
    "        print(f'Outliers detectados na coluna {column}:')\n",
    "        display(data)\n"
   ]
  },
  {
   "cell_type": "code",
   "execution_count": null,
   "id": "b23d82b0-72b8-48fb-9d81-d19cee5c5a61",
   "metadata": {},
   "outputs": [],
   "source": [
    "import numpy as np\n",
    "import pandas as pd\n",
    "\n",
    "def remove_outliers_iqr(df_dataset):\n",
    "    \"\"\"\n",
    "    Remove outliers da base de dados usando o método do IQR (Intervalo Interquartílico)\n",
    "    \"\"\"\n",
    "    # Criação de uma cópia do dataset original para não modificar o original\n",
    "    df_cleaned = df_dataset.copy()\n",
    "\n",
    "    # Para cada coluna numérica\n",
    "    for column in df_cleaned.select_dtypes(include=[np.number]).columns:\n",
    "        # Calculando os quartis\n",
    "        q25 = df_cleaned[column].quantile(0.25)\n",
    "        q75 = df_cleaned[column].quantile(0.75)\n",
    "        iqr = q75 - q25\n",
    "        \n",
    "        # Definindo os limites para outliers\n",
    "        lower_bound = q25 - 1.5 * iqr\n",
    "        upper_bound = q75 + 1.5 * iqr\n",
    "        \n",
    "        # Removendo outliers (valores fora dos limites)\n",
    "        df_cleaned = df_cleaned[(df_cleaned[column] >= lower_bound) & (df_cleaned[column] <= upper_bound)]\n",
    "    \n",
    "    return df_cleaned\n",
    "\n",
    "# Aplicando a função para remover os outliers\n",
    "df_dataset_cleaned = remove_outliers_iqr(df_dataset)\n",
    "\n",
    "# Mostrar o dataset sem outliers\n",
    "print(f'Dataset sem outliers: {df_dataset_cleaned.shape[0]} linhas')\n"
   ]
  },
  {
   "cell_type": "markdown",
   "id": "78774504-b1ce-44d1-a8d4-cf43208089ea",
   "metadata": {},
   "source": [
    "Agora que os outliers foram removidos, podemos analisar visualmente os nossos dados."
   ]
  },
  {
   "cell_type": "markdown",
   "id": "2b3002c6-d417-4ce2-9da6-95527ac124d3",
   "metadata": {},
   "source": [
    "##### Evolução das Avaliações ao Longo dos Anos"
   ]
  },
  {
   "cell_type": "code",
   "execution_count": null,
   "id": "ac624b39-cfad-4814-bd15-f9a756562b52",
   "metadata": {},
   "outputs": [],
   "source": [
    "avg_rating_by_year = df_dataset.groupby('release_year')['rating'].mean()\n",
    "avg_rating_by_year.plot(kind='line', figsize=(12, 6), color='orange', linewidth=2)\n",
    "plt.title('Média das Avaliações dos Filmes ao Longo dos Anos')\n",
    "plt.xlabel('Ano de Lançamento')\n",
    "plt.ylabel('Média das Avaliações')\n",
    "plt.grid(True)\n",
    "plt.show()\n"
   ]
  },
  {
   "cell_type": "markdown",
   "id": "87828d60-fab7-4bb3-8596-e4e0fc194393",
   "metadata": {},
   "source": [
    "##### Distribuição de Gêneros"
   ]
  },
  {
   "cell_type": "code",
   "execution_count": null,
   "id": "5ea25685-ae14-4a52-a59f-ef3508686075",
   "metadata": {},
   "outputs": [],
   "source": [
    "genre_counts = df_dataset['genres'].str.split(',').explode().value_counts()\n",
    "genre_counts = genre_counts.head(10)  # Limitar aos 10 mais populares\n",
    "plt.figure(figsize=(8, 8))\n",
    "plt.pie(genre_counts, labels=genre_counts.index, autopct='%1.1f%%', startangle=90, colors=sns.color_palette('Set2', n_colors=10))\n",
    "plt.title('Distribuição Percentual dos Gêneros Mais Populares')\n",
    "plt.show()\n"
   ]
  }
 ],
 "metadata": {
  "kernelspec": {
   "display_name": "Python [conda env:base] *",
   "language": "python",
   "name": "conda-base-py"
  },
  "language_info": {
   "codemirror_mode": {
    "name": "ipython",
    "version": 3
   },
   "file_extension": ".py",
   "mimetype": "text/x-python",
   "name": "python",
   "nbconvert_exporter": "python",
   "pygments_lexer": "ipython3",
   "version": "3.12.7"
  }
 },
 "nbformat": 4,
 "nbformat_minor": 5
}

{
 "cells": [
  {
   "cell_type": "markdown",
   "metadata": {},
   "source": [
    "##### <hr style=\"height:10px\"> \n",
    " \n",
    "<div class='container2'>\n",
    "\t\t<div>\n",
    "\t\t\t<img src='images\\header.jpeg' ALIGN='left' style='width:10em'>\n",
    "\t\t</div>\t\n",
    "\t<div style='padding: 0 7em 2em 12em;'>\n",
    "\t<h1>Laboratório de Inovação e Automação 1 (LIA 1)</h1>\n",
    "\t<div style=\"font-size:12pt;float:left;\"> 2025/1</div><br><br>\n",
    "    <div style=\"font-size:12pt;float:left;\"><b>Projetos de Inteligência Artificial</b></div>\n",
    "\t</div>\n",
    "</div> \n",
    "\n",
    "\n",
    " <hr style=\"height:5px\"> \n",
    "\n",
    "    \n",
    "<h2>Tratamento de dados -- <a href=\"https://www.kaggle.com/datasets/gauravkumar2525/kepler-exoplanet-dataset\">Exoplanets</a></h2>\n",
    "\n",
    "<a href=\"https://github.com/miguelccs10\">Miguel C. Costa Sousa</a>\n",
    "\n",
    " <hr style=\"height:2px\"> \n",
    " \n",
    "---\n"
   ]
  },
  {
   "cell_type": "markdown",
   "metadata": {},
   "source": [
    "## 1. Importação das Bibliotecas e do Dataset"
   ]
  },
  {
   "cell_type": "code",
   "execution_count": 3,
   "metadata": {},
   "outputs": [
    {
     "name": "stdout",
     "output_type": "stream",
     "text": [
      "Bibliotecas e dados carregados!\n"
     ]
    }
   ],
   "source": [
    "import pandas as pd\n",
    "import matplotlib.pyplot as plt\n",
    "import seaborn as sns\n",
    "\n",
    "# Carregar o dataset\n",
    "file_path = 'archive\\\\exoplanets_data.csv'\n",
    "df = pd.read_csv(file_path)\n",
    "\n",
    "# Visualizar primeiras linhas\n",
    "print(\"Bibliotecas e dados carregados!\")"
   ]
  },
  {
   "cell_type": "markdown",
   "metadata": {},
   "source": [
    "## 2. Informações iniciais\n",
    "\n",
    "Exibir as informações básicas do conjunto de dados: número de linhas, colunas e tipos de dados.\n",
    "\n",
    "<p align=\"center\">\n",
    "  <img src=\"images\\planets.png\" alt=\"Banner Exoplanetas\" width=\"600\">\n",
    "</p>\n"
   ]
  },
  {
   "cell_type": "code",
   "execution_count": null,
   "metadata": {},
   "outputs": [
    {
     "data": {
      "text/html": [
       "<div>\n",
       "<style scoped>\n",
       "    .dataframe tbody tr th:only-of-type {\n",
       "        vertical-align: middle;\n",
       "    }\n",
       "\n",
       "    .dataframe tbody tr th {\n",
       "        vertical-align: top;\n",
       "    }\n",
       "\n",
       "    .dataframe thead th {\n",
       "        text-align: right;\n",
       "    }\n",
       "</style>\n",
       "<table border=\"1\" class=\"dataframe\">\n",
       "  <thead>\n",
       "    <tr style=\"text-align: right;\">\n",
       "      <th></th>\n",
       "      <th>kepid</th>\n",
       "      <th>kepoi_name</th>\n",
       "      <th>koi_disposition</th>\n",
       "      <th>koi_score</th>\n",
       "      <th>koi_period</th>\n",
       "      <th>koi_prad</th>\n",
       "      <th>koi_teq</th>\n",
       "      <th>koi_insol</th>\n",
       "      <th>koi_steff</th>\n",
       "      <th>koi_srad</th>\n",
       "      <th>koi_slogg</th>\n",
       "      <th>koi_kepmag</th>\n",
       "    </tr>\n",
       "  </thead>\n",
       "  <tbody>\n",
       "    <tr>\n",
       "      <th>0</th>\n",
       "      <td>10797460</td>\n",
       "      <td>K00752.01</td>\n",
       "      <td>2</td>\n",
       "      <td>1.000</td>\n",
       "      <td>9.488036</td>\n",
       "      <td>2.26</td>\n",
       "      <td>793.0</td>\n",
       "      <td>93.59</td>\n",
       "      <td>5455.0</td>\n",
       "      <td>0.927</td>\n",
       "      <td>4.467</td>\n",
       "      <td>15.347</td>\n",
       "    </tr>\n",
       "    <tr>\n",
       "      <th>1</th>\n",
       "      <td>10797460</td>\n",
       "      <td>K00752.02</td>\n",
       "      <td>2</td>\n",
       "      <td>0.969</td>\n",
       "      <td>54.418383</td>\n",
       "      <td>2.83</td>\n",
       "      <td>443.0</td>\n",
       "      <td>9.11</td>\n",
       "      <td>5455.0</td>\n",
       "      <td>0.927</td>\n",
       "      <td>4.467</td>\n",
       "      <td>15.347</td>\n",
       "    </tr>\n",
       "    <tr>\n",
       "      <th>2</th>\n",
       "      <td>10811496</td>\n",
       "      <td>K00753.01</td>\n",
       "      <td>1</td>\n",
       "      <td>0.000</td>\n",
       "      <td>19.899140</td>\n",
       "      <td>14.60</td>\n",
       "      <td>638.0</td>\n",
       "      <td>39.30</td>\n",
       "      <td>5853.0</td>\n",
       "      <td>0.868</td>\n",
       "      <td>4.544</td>\n",
       "      <td>15.436</td>\n",
       "    </tr>\n",
       "    <tr>\n",
       "      <th>3</th>\n",
       "      <td>10848459</td>\n",
       "      <td>K00754.01</td>\n",
       "      <td>0</td>\n",
       "      <td>0.000</td>\n",
       "      <td>1.736952</td>\n",
       "      <td>33.46</td>\n",
       "      <td>1395.0</td>\n",
       "      <td>891.96</td>\n",
       "      <td>5805.0</td>\n",
       "      <td>0.791</td>\n",
       "      <td>4.564</td>\n",
       "      <td>15.597</td>\n",
       "    </tr>\n",
       "    <tr>\n",
       "      <th>4</th>\n",
       "      <td>10854555</td>\n",
       "      <td>K00755.01</td>\n",
       "      <td>2</td>\n",
       "      <td>1.000</td>\n",
       "      <td>2.525592</td>\n",
       "      <td>2.75</td>\n",
       "      <td>1406.0</td>\n",
       "      <td>926.16</td>\n",
       "      <td>6031.0</td>\n",
       "      <td>1.046</td>\n",
       "      <td>4.438</td>\n",
       "      <td>15.509</td>\n",
       "    </tr>\n",
       "    <tr>\n",
       "      <th>5</th>\n",
       "      <td>10872983</td>\n",
       "      <td>K00756.01</td>\n",
       "      <td>2</td>\n",
       "      <td>1.000</td>\n",
       "      <td>11.094321</td>\n",
       "      <td>3.90</td>\n",
       "      <td>835.0</td>\n",
       "      <td>114.81</td>\n",
       "      <td>6046.0</td>\n",
       "      <td>0.972</td>\n",
       "      <td>4.486</td>\n",
       "      <td>15.714</td>\n",
       "    </tr>\n",
       "    <tr>\n",
       "      <th>6</th>\n",
       "      <td>10872983</td>\n",
       "      <td>K00756.02</td>\n",
       "      <td>2</td>\n",
       "      <td>1.000</td>\n",
       "      <td>4.134435</td>\n",
       "      <td>2.77</td>\n",
       "      <td>1160.0</td>\n",
       "      <td>427.65</td>\n",
       "      <td>6046.0</td>\n",
       "      <td>0.972</td>\n",
       "      <td>4.486</td>\n",
       "      <td>15.714</td>\n",
       "    </tr>\n",
       "    <tr>\n",
       "      <th>7</th>\n",
       "      <td>10872983</td>\n",
       "      <td>K00756.03</td>\n",
       "      <td>2</td>\n",
       "      <td>0.992</td>\n",
       "      <td>2.566589</td>\n",
       "      <td>1.59</td>\n",
       "      <td>1360.0</td>\n",
       "      <td>807.74</td>\n",
       "      <td>6046.0</td>\n",
       "      <td>0.972</td>\n",
       "      <td>4.486</td>\n",
       "      <td>15.714</td>\n",
       "    </tr>\n",
       "    <tr>\n",
       "      <th>8</th>\n",
       "      <td>6721123</td>\n",
       "      <td>K00114.01</td>\n",
       "      <td>0</td>\n",
       "      <td>0.000</td>\n",
       "      <td>7.361790</td>\n",
       "      <td>39.21</td>\n",
       "      <td>1342.0</td>\n",
       "      <td>767.22</td>\n",
       "      <td>6227.0</td>\n",
       "      <td>1.958</td>\n",
       "      <td>3.986</td>\n",
       "      <td>12.660</td>\n",
       "    </tr>\n",
       "    <tr>\n",
       "      <th>9</th>\n",
       "      <td>10910878</td>\n",
       "      <td>K00757.01</td>\n",
       "      <td>2</td>\n",
       "      <td>1.000</td>\n",
       "      <td>16.068647</td>\n",
       "      <td>5.76</td>\n",
       "      <td>600.0</td>\n",
       "      <td>30.75</td>\n",
       "      <td>5031.0</td>\n",
       "      <td>0.848</td>\n",
       "      <td>4.485</td>\n",
       "      <td>15.841</td>\n",
       "    </tr>\n",
       "  </tbody>\n",
       "</table>\n",
       "</div>"
      ],
      "text/plain": [
       "      kepid kepoi_name  koi_disposition  koi_score  koi_period  koi_prad  \\\n",
       "0  10797460  K00752.01                2      1.000    9.488036      2.26   \n",
       "1  10797460  K00752.02                2      0.969   54.418383      2.83   \n",
       "2  10811496  K00753.01                1      0.000   19.899140     14.60   \n",
       "3  10848459  K00754.01                0      0.000    1.736952     33.46   \n",
       "4  10854555  K00755.01                2      1.000    2.525592      2.75   \n",
       "5  10872983  K00756.01                2      1.000   11.094321      3.90   \n",
       "6  10872983  K00756.02                2      1.000    4.134435      2.77   \n",
       "7  10872983  K00756.03                2      0.992    2.566589      1.59   \n",
       "8   6721123  K00114.01                0      0.000    7.361790     39.21   \n",
       "9  10910878  K00757.01                2      1.000   16.068647      5.76   \n",
       "\n",
       "   koi_teq  koi_insol  koi_steff  koi_srad  koi_slogg  koi_kepmag  \n",
       "0    793.0      93.59     5455.0     0.927      4.467      15.347  \n",
       "1    443.0       9.11     5455.0     0.927      4.467      15.347  \n",
       "2    638.0      39.30     5853.0     0.868      4.544      15.436  \n",
       "3   1395.0     891.96     5805.0     0.791      4.564      15.597  \n",
       "4   1406.0     926.16     6031.0     1.046      4.438      15.509  \n",
       "5    835.0     114.81     6046.0     0.972      4.486      15.714  \n",
       "6   1160.0     427.65     6046.0     0.972      4.486      15.714  \n",
       "7   1360.0     807.74     6046.0     0.972      4.486      15.714  \n",
       "8   1342.0     767.22     6227.0     1.958      3.986      12.660  \n",
       "9    600.0      30.75     5031.0     0.848      4.485      15.841  "
      ]
     },
     "metadata": {},
     "output_type": "display_data"
    }
   ],
   "source": [
    "# Exibir uma amostra do dataset\n",
    "display(df.head(10))"
   ]
  },
  {
   "cell_type": "markdown",
   "metadata": {},
   "source": [
    "---\n",
    "## 3. Pré-processamento dos dados"
   ]
  },
  {
   "cell_type": "markdown",
   "metadata": {},
   "source": [
    "### 3.1 Limpeza de atributos irrelevantes para analise básica"
   ]
  },
  {
   "cell_type": "code",
   "execution_count": 8,
   "metadata": {},
   "outputs": [
    {
     "data": {
      "text/html": [
       "<div>\n",
       "<style scoped>\n",
       "    .dataframe tbody tr th:only-of-type {\n",
       "        vertical-align: middle;\n",
       "    }\n",
       "\n",
       "    .dataframe tbody tr th {\n",
       "        vertical-align: top;\n",
       "    }\n",
       "\n",
       "    .dataframe thead th {\n",
       "        text-align: right;\n",
       "    }\n",
       "</style>\n",
       "<table border=\"1\" class=\"dataframe\">\n",
       "  <thead>\n",
       "    <tr style=\"text-align: right;\">\n",
       "      <th></th>\n",
       "      <th>koi_disposition</th>\n",
       "      <th>koi_score</th>\n",
       "      <th>koi_period</th>\n",
       "      <th>koi_prad</th>\n",
       "      <th>koi_teq</th>\n",
       "      <th>koi_insol</th>\n",
       "      <th>koi_steff</th>\n",
       "      <th>koi_srad</th>\n",
       "      <th>koi_slogg</th>\n",
       "      <th>koi_kepmag</th>\n",
       "    </tr>\n",
       "  </thead>\n",
       "  <tbody>\n",
       "    <tr>\n",
       "      <th>0</th>\n",
       "      <td>2</td>\n",
       "      <td>1.000</td>\n",
       "      <td>9.488036</td>\n",
       "      <td>2.26</td>\n",
       "      <td>793.0</td>\n",
       "      <td>93.59</td>\n",
       "      <td>5455.0</td>\n",
       "      <td>0.927</td>\n",
       "      <td>4.467</td>\n",
       "      <td>15.347</td>\n",
       "    </tr>\n",
       "    <tr>\n",
       "      <th>1</th>\n",
       "      <td>2</td>\n",
       "      <td>0.969</td>\n",
       "      <td>54.418383</td>\n",
       "      <td>2.83</td>\n",
       "      <td>443.0</td>\n",
       "      <td>9.11</td>\n",
       "      <td>5455.0</td>\n",
       "      <td>0.927</td>\n",
       "      <td>4.467</td>\n",
       "      <td>15.347</td>\n",
       "    </tr>\n",
       "    <tr>\n",
       "      <th>2</th>\n",
       "      <td>1</td>\n",
       "      <td>0.000</td>\n",
       "      <td>19.899140</td>\n",
       "      <td>14.60</td>\n",
       "      <td>638.0</td>\n",
       "      <td>39.30</td>\n",
       "      <td>5853.0</td>\n",
       "      <td>0.868</td>\n",
       "      <td>4.544</td>\n",
       "      <td>15.436</td>\n",
       "    </tr>\n",
       "    <tr>\n",
       "      <th>3</th>\n",
       "      <td>0</td>\n",
       "      <td>0.000</td>\n",
       "      <td>1.736952</td>\n",
       "      <td>33.46</td>\n",
       "      <td>1395.0</td>\n",
       "      <td>891.96</td>\n",
       "      <td>5805.0</td>\n",
       "      <td>0.791</td>\n",
       "      <td>4.564</td>\n",
       "      <td>15.597</td>\n",
       "    </tr>\n",
       "    <tr>\n",
       "      <th>4</th>\n",
       "      <td>2</td>\n",
       "      <td>1.000</td>\n",
       "      <td>2.525592</td>\n",
       "      <td>2.75</td>\n",
       "      <td>1406.0</td>\n",
       "      <td>926.16</td>\n",
       "      <td>6031.0</td>\n",
       "      <td>1.046</td>\n",
       "      <td>4.438</td>\n",
       "      <td>15.509</td>\n",
       "    </tr>\n",
       "  </tbody>\n",
       "</table>\n",
       "</div>"
      ],
      "text/plain": [
       "   koi_disposition  koi_score  koi_period  koi_prad  koi_teq  koi_insol  \\\n",
       "0                2      1.000    9.488036      2.26    793.0      93.59   \n",
       "1                2      0.969   54.418383      2.83    443.0       9.11   \n",
       "2                1      0.000   19.899140     14.60    638.0      39.30   \n",
       "3                0      0.000    1.736952     33.46   1395.0     891.96   \n",
       "4                2      1.000    2.525592      2.75   1406.0     926.16   \n",
       "\n",
       "   koi_steff  koi_srad  koi_slogg  koi_kepmag  \n",
       "0     5455.0     0.927      4.467      15.347  \n",
       "1     5455.0     0.927      4.467      15.347  \n",
       "2     5853.0     0.868      4.544      15.436  \n",
       "3     5805.0     0.791      4.564      15.597  \n",
       "4     6031.0     1.046      4.438      15.509  "
      ]
     },
     "metadata": {},
     "output_type": "display_data"
    }
   ],
   "source": [
    "# Remover colunas irrelevantes\n",
    "df = df.drop(columns=['kepid', 'kepoi_name'])\n",
    "\n",
    "# Verificar o resultado\n",
    "display(df.head())\n"
   ]
  },
  {
   "cell_type": "markdown",
   "metadata": {},
   "source": [
    "### 3.2 Verificação de valores faltantes\n",
    "\n",
    "Verificar se há dados ausentes nas colunas do dataset para decidir como tratá-los."
   ]
  },
  {
   "cell_type": "code",
   "execution_count": 10,
   "metadata": {},
   "outputs": [
    {
     "data": {
      "text/html": [
       "<div>\n",
       "<style scoped>\n",
       "    .dataframe tbody tr th:only-of-type {\n",
       "        vertical-align: middle;\n",
       "    }\n",
       "\n",
       "    .dataframe tbody tr th {\n",
       "        vertical-align: top;\n",
       "    }\n",
       "\n",
       "    .dataframe thead th {\n",
       "        text-align: right;\n",
       "    }\n",
       "</style>\n",
       "<table border=\"1\" class=\"dataframe\">\n",
       "  <thead>\n",
       "    <tr style=\"text-align: right;\">\n",
       "      <th></th>\n",
       "      <th>Coluna</th>\n",
       "      <th>Total de Valores Faltantes</th>\n",
       "    </tr>\n",
       "  </thead>\n",
       "  <tbody>\n",
       "  </tbody>\n",
       "</table>\n",
       "</div>"
      ],
      "text/plain": [
       "Empty DataFrame\n",
       "Columns: [Coluna, Total de Valores Faltantes]\n",
       "Index: []"
      ]
     },
     "metadata": {},
     "output_type": "display_data"
    },
    {
     "name": "stdout",
     "output_type": "stream",
     "text": [
      "✅ Não há valores faltantes no dataset.\n"
     ]
    }
   ],
   "source": [
    "# Verificar e exibir valores nulos de forma organizada\n",
    "missing_data = pd.DataFrame({\n",
    "    'Coluna': df.columns,\n",
    "    'Total de Valores Faltantes': df.isnull().sum().values\n",
    "})\n",
    "\n",
    "# Exibir apenas colunas que possuem valores faltantes\n",
    "display(missing_data[missing_data['Total de Valores Faltantes'] > 0])\n",
    "\n",
    "# Caso não haja valores faltantes, exibir mensagem\n",
    "if missing_data['Total de Valores Faltantes'].sum() == 0:\n",
    "    print(\"✅ Não há valores faltantes no dataset.\")\n"
   ]
  },
  {
   "cell_type": "markdown",
   "metadata": {},
   "source": [
    "### 3.3 Remoção de linhas duplicadas\n",
    "\n",
    "Verificar e eliminar registros duplicados, que podem comprometer a análise."
   ]
  },
  {
   "cell_type": "code",
   "execution_count": 12,
   "metadata": {},
   "outputs": [
    {
     "name": "stdout",
     "output_type": "stream",
     "text": [
      "🔍 Total de linhas duplicadas encontradas: 0\n",
      "✅ Nenhuma linha duplicada foi encontrada no dataset.\n"
     ]
    }
   ],
   "source": [
    "# Verificar registros duplicados\n",
    "total_duplicados = df.duplicated().sum()\n",
    "\n",
    "print(f\"🔍 Total de linhas duplicadas encontradas: {total_duplicados}\")\n",
    "\n",
    "# Remover duplicados, se houver\n",
    "if total_duplicados > 0:\n",
    "    df = df.drop_duplicates()\n",
    "    print(\"✅ Linhas duplicadas removidas com sucesso!\")\n",
    "else:\n",
    "    print(\"✅ Nenhuma linha duplicada foi encontrada no dataset.\")\n"
   ]
  },
  {
   "cell_type": "markdown",
   "metadata": {},
   "source": [
    "## 4. Correção de tipos de dados\n",
    "\n",
    "Corrigir tipos de dados ajuda a evitar erros durante o processamento e análise. Neste caso, garantimos que a coluna kepoi_name seja tratada como texto, pois ela contém apenas identificadores e não será utilizada em cálculos."
   ]
  },
  {
   "cell_type": "code",
   "execution_count": 14,
   "metadata": {},
   "outputs": [],
   "source": [
    "# Correção do tipo de dados\n",
    "\n",
    "# A coluna 'kepoi_name' contém identificadores dos planetas.\n",
    "# Por padrão, pode ter sido lida como 'object' ou outro tipo.\n",
    "# Vamos garantir que ela seja do tipo string (texto).\n",
    "\n",
    "#df['kepoi_name'] = df['kepoi_name'].astype(str)\n",
    "\n",
    "# Verificar o tipo de dados atualizado\n",
    "#print(\"Tipos de dados após correção:\")\n",
    "#print(df.dtypes)\n"
   ]
  },
  {
   "cell_type": "markdown",
   "metadata": {},
   "source": [
    "(Nesta etapa, a correção de tipos de dados não foi necessária, pois os identificadores que exigiam ajuste foram removidos no pré-processamento)"
   ]
  },
  {
   "cell_type": "markdown",
   "metadata": {},
   "source": [
    "## 5. Tratamento de valores faltantes\n",
    "\n",
    "Preencher valores faltantes com a média dos dados numéricos, evitando perda de informações."
   ]
  },
  {
   "cell_type": "code",
   "execution_count": 17,
   "metadata": {},
   "outputs": [
    {
     "name": "stdout",
     "output_type": "stream",
     "text": [
      "🔍 Total de valores faltantes encontrados: 0\n",
      "✅ Não há valores faltantes no dataset.\n"
     ]
    }
   ],
   "source": [
    "# Tratamento de valores faltantes\n",
    "\n",
    "# Verificar se há valores faltantes\n",
    "total_missing = df.isnull().sum().sum()\n",
    "\n",
    "print(f\"🔍 Total de valores faltantes encontrados: {total_missing}\")\n",
    "\n",
    "# Preencher valores faltantes, se houver\n",
    "if total_missing > 0:\n",
    "    for col in df.select_dtypes(include=['float', 'int']).columns:\n",
    "        media = df[col].mean()\n",
    "        df[col].fillna(media, inplace=True)\n",
    "        print(f\"➡️ Valores faltantes na coluna '{col}' preenchidos com a média: {media:.2f}\")\n",
    "    print(\"✅ Valores faltantes tratados com sucesso!\")\n",
    "else:\n",
    "    print(\"✅ Não há valores faltantes no dataset.\")\n"
   ]
  },
  {
   "cell_type": "markdown",
   "metadata": {},
   "source": [
    "## 6. Verificação de dados inconsistentes"
   ]
  },
  {
   "cell_type": "code",
   "execution_count": 19,
   "metadata": {},
   "outputs": [
    {
     "name": "stdout",
     "output_type": "stream",
     "text": [
      "🔍 Registros com raio inválido: 0\n",
      "🔍 Registros com período orbital inválido: 0\n"
     ]
    }
   ],
   "source": [
    "# Verificar dados inconsistentes\n",
    "\n",
    "# Exemplo 1: Raio do planeta não pode ser <= 0\n",
    "inconsistentes_raio = df[df['koi_prad'] <= 0]\n",
    "\n",
    "# Exemplo 2: Período orbital não pode ser <= 0\n",
    "inconsistentes_periodo = df[df['koi_period'] <= 0]\n",
    "\n",
    "print(f\"🔍 Registros com raio inválido: {inconsistentes_raio.shape[0]}\")\n",
    "print(f\"🔍 Registros com período orbital inválido: {inconsistentes_periodo.shape[0]}\")\n",
    "\n",
    "# (Opcional) Remover registros inconsistentes\n",
    "df = df[df['koi_prad'] > 0]\n",
    "df = df[df['koi_period'] > 0]\n"
   ]
  },
  {
   "cell_type": "markdown",
   "metadata": {},
   "source": [
    "## 7. Análise descritiva dos dados"
   ]
  },
  {
   "cell_type": "code",
   "execution_count": 21,
   "metadata": {},
   "outputs": [
    {
     "data": {
      "text/html": [
       "<div>\n",
       "<style scoped>\n",
       "    .dataframe tbody tr th:only-of-type {\n",
       "        vertical-align: middle;\n",
       "    }\n",
       "\n",
       "    .dataframe tbody tr th {\n",
       "        vertical-align: top;\n",
       "    }\n",
       "\n",
       "    .dataframe thead th {\n",
       "        text-align: right;\n",
       "    }\n",
       "</style>\n",
       "<table border=\"1\" class=\"dataframe\">\n",
       "  <thead>\n",
       "    <tr style=\"text-align: right;\">\n",
       "      <th></th>\n",
       "      <th>koi_disposition</th>\n",
       "      <th>koi_score</th>\n",
       "      <th>koi_period</th>\n",
       "      <th>koi_prad</th>\n",
       "      <th>koi_teq</th>\n",
       "      <th>koi_insol</th>\n",
       "      <th>koi_steff</th>\n",
       "      <th>koi_srad</th>\n",
       "      <th>koi_slogg</th>\n",
       "      <th>koi_kepmag</th>\n",
       "    </tr>\n",
       "  </thead>\n",
       "  <tbody>\n",
       "    <tr>\n",
       "      <th>count</th>\n",
       "      <td>9564.000000</td>\n",
       "      <td>9564.000000</td>\n",
       "      <td>9564.000000</td>\n",
       "      <td>9564.000000</td>\n",
       "      <td>9564.000000</td>\n",
       "      <td>9.564000e+03</td>\n",
       "      <td>9564.00000</td>\n",
       "      <td>9564.000000</td>\n",
       "      <td>9564.000000</td>\n",
       "      <td>9564.000000</td>\n",
       "    </tr>\n",
       "    <tr>\n",
       "      <th>mean</th>\n",
       "      <td>0.780845</td>\n",
       "      <td>0.480829</td>\n",
       "      <td>75.671358</td>\n",
       "      <td>102.891778</td>\n",
       "      <td>1085.385828</td>\n",
       "      <td>7.745737e+03</td>\n",
       "      <td>5706.82328</td>\n",
       "      <td>1.728712</td>\n",
       "      <td>4.310157</td>\n",
       "      <td>14.264606</td>\n",
       "    </tr>\n",
       "    <tr>\n",
       "      <th>std</th>\n",
       "      <td>0.863026</td>\n",
       "      <td>0.437658</td>\n",
       "      <td>1334.744046</td>\n",
       "      <td>3018.662296</td>\n",
       "      <td>839.940895</td>\n",
       "      <td>1.565099e+05</td>\n",
       "      <td>781.58775</td>\n",
       "      <td>6.009769</td>\n",
       "      <td>0.424316</td>\n",
       "      <td>1.385376</td>\n",
       "    </tr>\n",
       "    <tr>\n",
       "      <th>min</th>\n",
       "      <td>0.000000</td>\n",
       "      <td>0.000000</td>\n",
       "      <td>0.241843</td>\n",
       "      <td>0.080000</td>\n",
       "      <td>25.000000</td>\n",
       "      <td>0.000000e+00</td>\n",
       "      <td>2661.00000</td>\n",
       "      <td>0.109000</td>\n",
       "      <td>0.047000</td>\n",
       "      <td>6.966000</td>\n",
       "    </tr>\n",
       "    <tr>\n",
       "      <th>25%</th>\n",
       "      <td>0.000000</td>\n",
       "      <td>0.000000</td>\n",
       "      <td>2.733684</td>\n",
       "      <td>1.430000</td>\n",
       "      <td>553.000000</td>\n",
       "      <td>2.216000e+01</td>\n",
       "      <td>5333.00000</td>\n",
       "      <td>0.835750</td>\n",
       "      <td>4.232750</td>\n",
       "      <td>13.440000</td>\n",
       "    </tr>\n",
       "    <tr>\n",
       "      <th>50%</th>\n",
       "      <td>0.000000</td>\n",
       "      <td>0.480829</td>\n",
       "      <td>9.752831</td>\n",
       "      <td>2.490000</td>\n",
       "      <td>906.000000</td>\n",
       "      <td>1.583200e+02</td>\n",
       "      <td>5745.00000</td>\n",
       "      <td>1.006500</td>\n",
       "      <td>4.432000</td>\n",
       "      <td>14.520000</td>\n",
       "    </tr>\n",
       "    <tr>\n",
       "      <th>75%</th>\n",
       "      <td>2.000000</td>\n",
       "      <td>0.995000</td>\n",
       "      <td>40.715178</td>\n",
       "      <td>21.712500</td>\n",
       "      <td>1352.500000</td>\n",
       "      <td>1.110257e+03</td>\n",
       "      <td>6099.00000</td>\n",
       "      <td>1.435250</td>\n",
       "      <td>4.539000</td>\n",
       "      <td>15.322000</td>\n",
       "    </tr>\n",
       "    <tr>\n",
       "      <th>max</th>\n",
       "      <td>2.000000</td>\n",
       "      <td>1.000000</td>\n",
       "      <td>129995.778400</td>\n",
       "      <td>200346.000000</td>\n",
       "      <td>14667.000000</td>\n",
       "      <td>1.094755e+07</td>\n",
       "      <td>15896.00000</td>\n",
       "      <td>229.908000</td>\n",
       "      <td>5.364000</td>\n",
       "      <td>20.003000</td>\n",
       "    </tr>\n",
       "  </tbody>\n",
       "</table>\n",
       "</div>"
      ],
      "text/plain": [
       "       koi_disposition    koi_score     koi_period       koi_prad  \\\n",
       "count      9564.000000  9564.000000    9564.000000    9564.000000   \n",
       "mean          0.780845     0.480829      75.671358     102.891778   \n",
       "std           0.863026     0.437658    1334.744046    3018.662296   \n",
       "min           0.000000     0.000000       0.241843       0.080000   \n",
       "25%           0.000000     0.000000       2.733684       1.430000   \n",
       "50%           0.000000     0.480829       9.752831       2.490000   \n",
       "75%           2.000000     0.995000      40.715178      21.712500   \n",
       "max           2.000000     1.000000  129995.778400  200346.000000   \n",
       "\n",
       "            koi_teq     koi_insol    koi_steff     koi_srad    koi_slogg  \\\n",
       "count   9564.000000  9.564000e+03   9564.00000  9564.000000  9564.000000   \n",
       "mean    1085.385828  7.745737e+03   5706.82328     1.728712     4.310157   \n",
       "std      839.940895  1.565099e+05    781.58775     6.009769     0.424316   \n",
       "min       25.000000  0.000000e+00   2661.00000     0.109000     0.047000   \n",
       "25%      553.000000  2.216000e+01   5333.00000     0.835750     4.232750   \n",
       "50%      906.000000  1.583200e+02   5745.00000     1.006500     4.432000   \n",
       "75%     1352.500000  1.110257e+03   6099.00000     1.435250     4.539000   \n",
       "max    14667.000000  1.094755e+07  15896.00000   229.908000     5.364000   \n",
       "\n",
       "        koi_kepmag  \n",
       "count  9564.000000  \n",
       "mean     14.264606  \n",
       "std       1.385376  \n",
       "min       6.966000  \n",
       "25%      13.440000  \n",
       "50%      14.520000  \n",
       "75%      15.322000  \n",
       "max      20.003000  "
      ]
     },
     "metadata": {},
     "output_type": "display_data"
    }
   ],
   "source": [
    "df_detalhes = df.describe()\n",
    "display(df_detalhes)"
   ]
  },
  {
   "cell_type": "markdown",
   "metadata": {},
   "source": [
    "## 8. Análise de outliers\n",
    "\n",
    "Visualizar possíveis outliers em atributos numéricos utilizando gráficos do tipo boxplot."
   ]
  },
  {
   "cell_type": "code",
   "execution_count": 23,
   "metadata": {},
   "outputs": [
    {
     "data": {
      "image/png": "[encoded data removed]",
      "text/plain": [
       "<Figure size 1200x600 with 1 Axes>"
      ]
     },
     "metadata": {},
     "output_type": "display_data"
    }
   ],
   "source": [
    "# Visualização de outliers com boxplot\n",
    "plt.figure(figsize=(12, 6))\n",
    "sns.boxplot(data=df[['koi_period', 'koi_prad', 'koi_teq']])\n",
    "plt.title('Análise de Outliers')\n",
    "plt.show()"
   ]
  },
  {
   "cell_type": "markdown",
   "metadata": {},
   "source": [
    "## 9. Correção dos valores outliers"
   ]
  },
  {
   "cell_type": "code",
   "execution_count": 25,
   "metadata": {},
   "outputs": [],
   "source": [
    "    # Correção de Outliers (remoção)\n",
    "\n",
    "# def remover_outliers(df, col):\n",
    "#    Q1 = df[col].quantile(0.25)\n",
    "#    Q3 = df[col].quantile(0.75)\n",
    "#    IQR = Q3 - Q1\n",
    "#    limite_inferior = Q1 - 1.5 * IQR\n",
    "#    limite_superior = Q3 + 1.5 * IQR\n",
    "    # Mantém apenas os dados dentro dos limites\n",
    "#    return df[(df[col] >= limite_inferior) & (df[col] <= limite_superior)]\n",
    "\n",
    "    # Aplicar para as colunas principais do dataset\n",
    "#colunas_outliers = ['koi_period', 'koi_prad', 'koi_teq']\n",
    "\n",
    "#for col in colunas_outliers:\n",
    "#    tamanho_antes = df.shape[0]\n",
    "#    df = remover_outliers(df, col)\n",
    "#    tamanho_depois = df.shape[0]\n",
    "#    print(f\"🔍 Coluna '{col}': Removidos {tamanho_antes - tamanho_depois} registros considerados outliers.\")\n"
   ]
  },
  {
   "cell_type": "markdown",
   "metadata": {},
   "source": [
    "    Em contextos científicos, como o estudo de exoplanetas, valores considerados outliers podem não representar erros ou inconsistências, mas sim fenômenos raros e reais. Por exemplo, planetas muito maiores ou mais quentes do que o padrão podem indicar casos extremos que são, justamente, de interesse na pesquisa."
   ]
  },
  {
   "cell_type": "markdown",
   "metadata": {},
   "source": [
    "---\n",
    "## ✅ Dados prontos para Análise e Modelagem\n",
    "\n",
    "O dataset foi limpo, padronizado e preparado para ser utilizado em análises exploratórias e modelos de Machine Learning."
   ]
  }
 ],
 "metadata": {
  "kernelspec": {
   "display_name": "Python 3",
   "language": "python",
   "name": "python3"
  },
  "language_info": {
   "codemirror_mode": {
    "name": "ipython",
    "version": 3
   },
   "file_extension": ".py",
   "mimetype": "text/x-python",
   "name": "python",
   "nbconvert_exporter": "python",
   "pygments_lexer": "ipython3",
   "version": "3.11.9"
  }
 },
 "nbformat": 4,
 "nbformat_minor": 4
}

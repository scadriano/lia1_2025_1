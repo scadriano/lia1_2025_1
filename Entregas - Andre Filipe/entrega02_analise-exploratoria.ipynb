{
 "cells": [
  {
   "cell_type": "markdown",
   "id": "e51f3042",
   "metadata": {},
   "source": [
    "<hr style=\"height:10px\"> \n",
    " \n",
    "<div class='container2'>\n",
    "\t\t<div>\n",
    "\t\t\t<img src='https://mnproductions.com.au/wp-content/uploads/2022/07/blog-06-june-2022-website-image.png' ALIGN='left' style='width:9em'>\n",
    "\t\t</div>\t\n",
    "\t<div style='padding: 0 7em 2em 12em;'>\n",
    "\t<h1>Laboratório de Inovação e Automação 1 (LIA 1)</h1>\n",
    "\t<div style=\"font-size:12pt;float:left;\"> 2025/1 | 24M34 | Sala 200 CAE</div><br><br>\n",
    "    <div style=\"font-size:12pt;float:left;\"><b>Projetos de Inteligência Artificial - Análise Exploratória de Dados </b></div>\n",
    "\t</div>\n",
    "</div>\n",
    "\n",
    "\n",
    " <hr style=\"height:5px\"> \n",
    "\n",
    "    \n",
    "<h2>Análise Exploratória de Dados - <a href=\"https://www.kaggle.com/datasets/atharvasoundankar/global-music-streaming-trends-and-listener-insights\">Global Music Streaming Trends & Listener Insights</a> </h2>\n",
    "\n",
    "Template criado por: <a href=\"http://lattes.cnpq.br/1346824250595330\">Prof. Dr. Adriano C. Santana</a> <br/>\n",
    "Notebook desenvolvido por: Andre Filipe Marques Menezes\n",
    "\n",
    " <hr style=\"height:2px\"> "
   ]
  },
  {
   "cell_type": "code",
   "execution_count": 1,
   "id": "7569594a",
   "metadata": {},
   "outputs": [
    {
     "name": "stdout",
     "output_type": "stream",
     "text": [
      "A versão da linguagem Python usada neste projeto é a 3.11.2!\n"
     ]
    }
   ],
   "source": [
    "# Confirmar a versão da Linguagem Python instalada\n",
    "from platform import python_version\n",
    "print(f'A versão da linguagem Python usada neste projeto é a {python_version()}!')"
   ]
  },
  {
   "cell_type": "markdown",
   "id": "1df4ce00",
   "metadata": {
    "jp-MarkdownHeadingCollapsed": true
   },
   "source": [
    "---\n",
    "## 1. Bibliotecas Necessárias para o Notebook\n",
    "\n",
    "Para este notebook, deve ser utilizada a mesma versão apresentada abaixo.\n",
    "\n",
    "* [`matplotlib`](https://matplotlib.org/) (versão 3.1.3 ou superior): construção e exibição de gráficos variados.\n",
    "* [`seaborn`](https://seaborn.pydata.org/) (versão 0.10.0 ou superior): construção e exibição de gráficos variados.\n",
    "* [`numpy`](https://numpy.org) (versão 1.16.2 ou superior): manipulação de dados em formato de vetores e matrizes.\n",
    "* [`pandas`](https://pandas.pydata.org/pandas-docs/stable/index.html) (versão 0.24.1 ou superior): manipulação de dados em formato de tabelas.\n",
    "* [`kagglehub`](https://pypi.org/project/kagglehub/0.1.4/) (versão 0.1.4 ou superior): importa datasets do kaggle.\n",
    "\n",
    "Será utilizado o conjunto de dados que se encontra no diretório `datasets`, em formato de arquivo `.csv e/ou .txt`."
   ]
  },
  {
   "cell_type": "code",
   "execution_count": 4,
   "id": "dc0b6119-2429-45b8-9749-7a4e96708f15",
   "metadata": {},
   "outputs": [
    {
     "name": "stdout",
     "output_type": "stream",
     "text": [
      "Requirement already satisfied: matplotlib in e:\\ufgdocs\\lia1\\lia_jupyter\\lib\\site-packages (3.10.1)\n",
      "Requirement already satisfied: seaborn in e:\\ufgdocs\\lia1\\lia_jupyter\\lib\\site-packages (0.10.1)\n",
      "Collecting seaborn\n",
      "  Downloading seaborn-0.13.2-py3-none-any.whl.metadata (5.4 kB)\n",
      "Requirement already satisfied: pandas in e:\\ufgdocs\\lia1\\lia_jupyter\\lib\\site-packages (2.2.3)\n",
      "Requirement already satisfied: kagglehub in e:\\ufgdocs\\lia1\\lia_jupyter\\lib\\site-packages (0.1.9)\n",
      "Collecting kagglehub\n",
      "  Downloading kagglehub-0.3.10-py3-none-any.whl.metadata (31 kB)\n",
      "Requirement already satisfied: contourpy>=1.0.1 in e:\\ufgdocs\\lia1\\lia_jupyter\\lib\\site-packages (from matplotlib) (1.3.1)\n",
      "Requirement already satisfied: cycler>=0.10 in e:\\ufgdocs\\lia1\\lia_jupyter\\lib\\site-packages (from matplotlib) (0.12.1)\n",
      "Requirement already satisfied: fonttools>=4.22.0 in e:\\ufgdocs\\lia1\\lia_jupyter\\lib\\site-packages (from matplotlib) (4.56.0)\n",
      "Requirement already satisfied: kiwisolver>=1.3.1 in e:\\ufgdocs\\lia1\\lia_jupyter\\lib\\site-packages (from matplotlib) (1.4.8)\n",
      "Requirement already satisfied: numpy>=1.23 in e:\\ufgdocs\\lia1\\lia_jupyter\\lib\\site-packages (from matplotlib) (2.2.4)\n",
      "Requirement already satisfied: packaging>=20.0 in e:\\ufgdocs\\lia1\\lia_jupyter\\lib\\site-packages (from matplotlib) (24.2)\n",
      "Requirement already satisfied: pillow>=8 in e:\\ufgdocs\\lia1\\lia_jupyter\\lib\\site-packages (from matplotlib) (11.2.0)\n",
      "Requirement already satisfied: pyparsing>=2.3.1 in e:\\ufgdocs\\lia1\\lia_jupyter\\lib\\site-packages (from matplotlib) (3.2.3)\n",
      "Requirement already satisfied: python-dateutil>=2.7 in e:\\ufgdocs\\lia1\\lia_jupyter\\lib\\site-packages (from matplotlib) (2.9.0.post0)\n",
      "Requirement already satisfied: pytz>=2020.1 in e:\\ufgdocs\\lia1\\lia_jupyter\\lib\\site-packages (from pandas) (2025.2)\n",
      "Requirement already satisfied: tzdata>=2022.7 in e:\\ufgdocs\\lia1\\lia_jupyter\\lib\\site-packages (from pandas) (2025.2)\n",
      "Requirement already satisfied: pyyaml in e:\\ufgdocs\\lia1\\lia_jupyter\\lib\\site-packages (from kagglehub) (6.0.2)\n",
      "Requirement already satisfied: requests in e:\\ufgdocs\\lia1\\lia_jupyter\\lib\\site-packages (from kagglehub) (2.32.3)\n",
      "Requirement already satisfied: tqdm in e:\\ufgdocs\\lia1\\lia_jupyter\\lib\\site-packages (from kagglehub) (4.67.1)\n",
      "Requirement already satisfied: six>=1.5 in e:\\ufgdocs\\lia1\\lia_jupyter\\lib\\site-packages (from python-dateutil>=2.7->matplotlib) (1.17.0)\n",
      "Requirement already satisfied: charset-normalizer<4,>=2 in e:\\ufgdocs\\lia1\\lia_jupyter\\lib\\site-packages (from requests->kagglehub) (3.4.1)\n",
      "Requirement already satisfied: idna<4,>=2.5 in e:\\ufgdocs\\lia1\\lia_jupyter\\lib\\site-packages (from requests->kagglehub) (3.10)\n",
      "Requirement already satisfied: urllib3<3,>=1.21.1 in e:\\ufgdocs\\lia1\\lia_jupyter\\lib\\site-packages (from requests->kagglehub) (2.3.0)\n",
      "Requirement already satisfied: certifi>=2017.4.17 in e:\\ufgdocs\\lia1\\lia_jupyter\\lib\\site-packages (from requests->kagglehub) (2025.1.31)\n",
      "Requirement already satisfied: colorama in e:\\ufgdocs\\lia1\\lia_jupyter\\lib\\site-packages (from tqdm->kagglehub) (0.4.6)\n",
      "Downloading seaborn-0.13.2-py3-none-any.whl (294 kB)\n",
      "Downloading kagglehub-0.3.10-py3-none-any.whl (63 kB)\n",
      "Installing collected packages: kagglehub, seaborn\n",
      "  Attempting uninstall: kagglehub\n",
      "    Found existing installation: kagglehub 0.1.9\n",
      "    Uninstalling kagglehub-0.1.9:\n",
      "      Successfully uninstalled kagglehub-0.1.9\n",
      "  Attempting uninstall: seaborn\n",
      "    Found existing installation: seaborn 0.10.1\n",
      "    Uninstalling seaborn-0.10.1:\n",
      "      Successfully uninstalled seaborn-0.10.1\n",
      "Successfully installed kagglehub-0.3.10 seaborn-0.13.2\n",
      "Note: you may need to restart the kernel to use updated packages.\n"
     ]
    }
   ],
   "source": [
    "# instala pacotes necessários para executar o notebook\n",
    "%pip install --upgrade matplotlib seaborn pandas kagglehub"
   ]
  },
  {
   "cell_type": "markdown",
   "id": "73113d40",
   "metadata": {},
   "source": [
    "---\n",
    "## 2. Carregar e Exibir os Dados da Fonte\n",
    "\n",
    "Primeiro, vamos importar todas as bibliotecas que serão utilizadas no projeto."
   ]
  },
  {
   "cell_type": "code",
   "execution_count": 2,
   "id": "19fbc8a2-025d-42a4-ac4f-40eaca89acb2",
   "metadata": {},
   "outputs": [
    {
     "name": "stdout",
     "output_type": "stream",
     "text": [
      "Bibliotecas carregadas com sucesso!\n"
     ]
    }
   ],
   "source": [
    "# -*- coding: utf-8 -*-\n",
    "\n",
    "import numpy as np\n",
    "import pandas as pd \n",
    "import seaborn as sns\n",
    "import matplotlib.pyplot as plt\n",
    "import kagglehub\n",
    "\n",
    "print('Bibliotecas carregadas com sucesso!')"
   ]
  },
  {
   "cell_type": "markdown",
   "id": "d65e72b9",
   "metadata": {},
   "source": [
    "### Apresentação da base de dados\n",
    "\n",
    "Primeiro: vamos importar os dados para o dataframe."
   ]
  },
  {
   "cell_type": "code",
   "execution_count": 6,
   "id": "495f9798",
   "metadata": {},
   "outputs": [
    {
     "name": "stdout",
     "output_type": "stream",
     "text": [
      "Dataset baixado em E:\\UFGDocs\\lia1\\kaggle\\datasets\\atharvasoundankar\\global-music-streaming-trends-and-listener-insights\\versions\\1\n",
      "Dados importados com sucesso!\n"
     ]
    }
   ],
   "source": [
    "import os\n",
    "\n",
    "# atualiza caminho base de onde o dataset vai ser baixado\n",
    "os.environ['KAGGLEHUB_CACHE'] = os.path.join(os.getcwd(), 'kaggle')\n",
    "\n",
    "# baixa dataset do kaggle\n",
    "caminho = kagglehub.dataset_download(\"atharvasoundankar/global-music-streaming-trends-and-listener-insights\")\n",
    "print(f'Dataset baixado em {caminho}')\n",
    "\n",
    "# importar o arquivo e guardar em um dataframe do Pandas\n",
    "df_dataset = pd.read_csv(os.path.join(caminho, 'Global_Music_Streaming_Listener_Preferences.csv'))\n",
    "print('Dados importados com sucesso!')"
   ]
  },
  {
   "cell_type": "markdown",
   "id": "ae09bdee",
   "metadata": {},
   "source": [
    "Segundo: vamos dar uma olhada rápida na base de dados."
   ]
  },
  {
   "cell_type": "code",
   "execution_count": 7,
   "id": "dfa9d8a9",
   "metadata": {
    "scrolled": true
   },
   "outputs": [
    {
     "data": {
      "text/html": [
       "<div>\n",
       "<style scoped>\n",
       "    .dataframe tbody tr th:only-of-type {\n",
       "        vertical-align: middle;\n",
       "    }\n",
       "\n",
       "    .dataframe tbody tr th {\n",
       "        vertical-align: top;\n",
       "    }\n",
       "\n",
       "    .dataframe thead th {\n",
       "        text-align: right;\n",
       "    }\n",
       "</style>\n",
       "<table border=\"1\" class=\"dataframe\">\n",
       "  <thead>\n",
       "    <tr style=\"text-align: right;\">\n",
       "      <th></th>\n",
       "      <th>User_ID</th>\n",
       "      <th>Age</th>\n",
       "      <th>Country</th>\n",
       "      <th>Streaming Platform</th>\n",
       "      <th>Top Genre</th>\n",
       "      <th>Minutes Streamed Per Day</th>\n",
       "      <th>Number of Songs Liked</th>\n",
       "      <th>Most Played Artist</th>\n",
       "      <th>Subscription Type</th>\n",
       "      <th>Listening Time (Morning/Afternoon/Night)</th>\n",
       "      <th>Discover Weekly Engagement (%)</th>\n",
       "      <th>Repeat Song Rate (%)</th>\n",
       "    </tr>\n",
       "  </thead>\n",
       "  <tbody>\n",
       "    <tr>\n",
       "      <th>0</th>\n",
       "      <td>U1000</td>\n",
       "      <td>34</td>\n",
       "      <td>Japan</td>\n",
       "      <td>Tidal</td>\n",
       "      <td>Reggae</td>\n",
       "      <td>295</td>\n",
       "      <td>138</td>\n",
       "      <td>Adele</td>\n",
       "      <td>Free</td>\n",
       "      <td>Afternoon</td>\n",
       "      <td>47.42</td>\n",
       "      <td>16.74</td>\n",
       "    </tr>\n",
       "    <tr>\n",
       "      <th>1</th>\n",
       "      <td>U1001</td>\n",
       "      <td>24</td>\n",
       "      <td>Germany</td>\n",
       "      <td>Deezer</td>\n",
       "      <td>Country</td>\n",
       "      <td>86</td>\n",
       "      <td>388</td>\n",
       "      <td>Ed Sheeran</td>\n",
       "      <td>Premium</td>\n",
       "      <td>Night</td>\n",
       "      <td>12.06</td>\n",
       "      <td>69.25</td>\n",
       "    </tr>\n",
       "    <tr>\n",
       "      <th>2</th>\n",
       "      <td>U1002</td>\n",
       "      <td>49</td>\n",
       "      <td>Germany</td>\n",
       "      <td>Deezer</td>\n",
       "      <td>Pop</td>\n",
       "      <td>363</td>\n",
       "      <td>368</td>\n",
       "      <td>Post Malone</td>\n",
       "      <td>Premium</td>\n",
       "      <td>Afternoon</td>\n",
       "      <td>47.19</td>\n",
       "      <td>67.38</td>\n",
       "    </tr>\n",
       "    <tr>\n",
       "      <th>3</th>\n",
       "      <td>U1003</td>\n",
       "      <td>55</td>\n",
       "      <td>Australia</td>\n",
       "      <td>YouTube</td>\n",
       "      <td>Reggae</td>\n",
       "      <td>348</td>\n",
       "      <td>349</td>\n",
       "      <td>Dua Lipa</td>\n",
       "      <td>Premium</td>\n",
       "      <td>Morning</td>\n",
       "      <td>31.27</td>\n",
       "      <td>76.51</td>\n",
       "    </tr>\n",
       "    <tr>\n",
       "      <th>4</th>\n",
       "      <td>U1004</td>\n",
       "      <td>13</td>\n",
       "      <td>Germany</td>\n",
       "      <td>Amazon Music</td>\n",
       "      <td>Reggae</td>\n",
       "      <td>30</td>\n",
       "      <td>328</td>\n",
       "      <td>Adele</td>\n",
       "      <td>Free</td>\n",
       "      <td>Night</td>\n",
       "      <td>30.68</td>\n",
       "      <td>43.41</td>\n",
       "    </tr>\n",
       "    <tr>\n",
       "      <th>...</th>\n",
       "      <td>...</td>\n",
       "      <td>...</td>\n",
       "      <td>...</td>\n",
       "      <td>...</td>\n",
       "      <td>...</td>\n",
       "      <td>...</td>\n",
       "      <td>...</td>\n",
       "      <td>...</td>\n",
       "      <td>...</td>\n",
       "      <td>...</td>\n",
       "      <td>...</td>\n",
       "      <td>...</td>\n",
       "    </tr>\n",
       "    <tr>\n",
       "      <th>4995</th>\n",
       "      <td>U5995</td>\n",
       "      <td>60</td>\n",
       "      <td>UK</td>\n",
       "      <td>Deezer</td>\n",
       "      <td>Country</td>\n",
       "      <td>348</td>\n",
       "      <td>81</td>\n",
       "      <td>Post Malone</td>\n",
       "      <td>Premium</td>\n",
       "      <td>Morning</td>\n",
       "      <td>49.23</td>\n",
       "      <td>22.36</td>\n",
       "    </tr>\n",
       "    <tr>\n",
       "      <th>4996</th>\n",
       "      <td>U5996</td>\n",
       "      <td>38</td>\n",
       "      <td>Australia</td>\n",
       "      <td>Deezer</td>\n",
       "      <td>Hip-Hop</td>\n",
       "      <td>225</td>\n",
       "      <td>218</td>\n",
       "      <td>BTS</td>\n",
       "      <td>Premium</td>\n",
       "      <td>Night</td>\n",
       "      <td>17.08</td>\n",
       "      <td>58.23</td>\n",
       "    </tr>\n",
       "    <tr>\n",
       "      <th>4997</th>\n",
       "      <td>U5997</td>\n",
       "      <td>27</td>\n",
       "      <td>Brazil</td>\n",
       "      <td>Amazon Music</td>\n",
       "      <td>Metal</td>\n",
       "      <td>568</td>\n",
       "      <td>277</td>\n",
       "      <td>Taylor Swift</td>\n",
       "      <td>Premium</td>\n",
       "      <td>Night</td>\n",
       "      <td>69.39</td>\n",
       "      <td>51.71</td>\n",
       "    </tr>\n",
       "    <tr>\n",
       "      <th>4998</th>\n",
       "      <td>U5998</td>\n",
       "      <td>58</td>\n",
       "      <td>Canada</td>\n",
       "      <td>Amazon Music</td>\n",
       "      <td>EDM</td>\n",
       "      <td>523</td>\n",
       "      <td>492</td>\n",
       "      <td>Bad Bunny</td>\n",
       "      <td>Premium</td>\n",
       "      <td>Night</td>\n",
       "      <td>43.44</td>\n",
       "      <td>24.53</td>\n",
       "    </tr>\n",
       "    <tr>\n",
       "      <th>4999</th>\n",
       "      <td>U5999</td>\n",
       "      <td>30</td>\n",
       "      <td>South Korea</td>\n",
       "      <td>YouTube</td>\n",
       "      <td>Rock</td>\n",
       "      <td>451</td>\n",
       "      <td>145</td>\n",
       "      <td>Adele</td>\n",
       "      <td>Premium</td>\n",
       "      <td>Night</td>\n",
       "      <td>15.45</td>\n",
       "      <td>79.46</td>\n",
       "    </tr>\n",
       "  </tbody>\n",
       "</table>\n",
       "<p>5000 rows × 12 columns</p>\n",
       "</div>"
      ],
      "text/plain": [
       "     User_ID  Age      Country Streaming Platform Top Genre  \\\n",
       "0      U1000   34        Japan              Tidal    Reggae   \n",
       "1      U1001   24      Germany             Deezer   Country   \n",
       "2      U1002   49      Germany             Deezer       Pop   \n",
       "3      U1003   55    Australia            YouTube    Reggae   \n",
       "4      U1004   13      Germany       Amazon Music    Reggae   \n",
       "...      ...  ...          ...                ...       ...   \n",
       "4995   U5995   60           UK             Deezer   Country   \n",
       "4996   U5996   38    Australia             Deezer   Hip-Hop   \n",
       "4997   U5997   27       Brazil       Amazon Music     Metal   \n",
       "4998   U5998   58       Canada       Amazon Music       EDM   \n",
       "4999   U5999   30  South Korea            YouTube      Rock   \n",
       "\n",
       "      Minutes Streamed Per Day  Number of Songs Liked Most Played Artist  \\\n",
       "0                          295                    138              Adele   \n",
       "1                           86                    388         Ed Sheeran   \n",
       "2                          363                    368        Post Malone   \n",
       "3                          348                    349           Dua Lipa   \n",
       "4                           30                    328              Adele   \n",
       "...                        ...                    ...                ...   \n",
       "4995                       348                     81        Post Malone   \n",
       "4996                       225                    218                BTS   \n",
       "4997                       568                    277       Taylor Swift   \n",
       "4998                       523                    492          Bad Bunny   \n",
       "4999                       451                    145              Adele   \n",
       "\n",
       "     Subscription Type Listening Time (Morning/Afternoon/Night)  \\\n",
       "0                 Free                                Afternoon   \n",
       "1              Premium                                    Night   \n",
       "2              Premium                                Afternoon   \n",
       "3              Premium                                  Morning   \n",
       "4                 Free                                    Night   \n",
       "...                ...                                      ...   \n",
       "4995           Premium                                  Morning   \n",
       "4996           Premium                                    Night   \n",
       "4997           Premium                                    Night   \n",
       "4998           Premium                                    Night   \n",
       "4999           Premium                                    Night   \n",
       "\n",
       "      Discover Weekly Engagement (%)  Repeat Song Rate (%)  \n",
       "0                              47.42                 16.74  \n",
       "1                              12.06                 69.25  \n",
       "2                              47.19                 67.38  \n",
       "3                              31.27                 76.51  \n",
       "4                              30.68                 43.41  \n",
       "...                              ...                   ...  \n",
       "4995                           49.23                 22.36  \n",
       "4996                           17.08                 58.23  \n",
       "4997                           69.39                 51.71  \n",
       "4998                           43.44                 24.53  \n",
       "4999                           15.45                 79.46  \n",
       "\n",
       "[5000 rows x 12 columns]"
      ]
     },
     "metadata": {},
     "output_type": "display_data"
    }
   ],
   "source": [
    "# exibir uma amostra do dataframe\n",
    "#display(df_dataset.head())\n",
    "display(df_dataset)"
   ]
  },
  {
   "cell_type": "code",
   "execution_count": 8,
   "id": "c9de5266-3494-4099-b0a8-e1ae140e6f80",
   "metadata": {},
   "outputs": [
    {
     "data": {
      "text/plain": [
       "['User_ID',\n",
       " 'Age',\n",
       " 'Country',\n",
       " 'Streaming Platform',\n",
       " 'Top Genre',\n",
       " 'Minutes Streamed Per Day',\n",
       " 'Number of Songs Liked',\n",
       " 'Most Played Artist',\n",
       " 'Subscription Type',\n",
       " 'Listening Time (Morning/Afternoon/Night)',\n",
       " 'Discover Weekly Engagement (%)',\n",
       " 'Repeat Song Rate (%)']"
      ]
     },
     "execution_count": 8,
     "metadata": {},
     "output_type": "execute_result"
    }
   ],
   "source": [
    "list(df_dataset)"
   ]
  },
  {
   "cell_type": "markdown",
   "id": "2335d3ef",
   "metadata": {},
   "source": [
    "---\n",
    "## 3. Pré-processamento\n",
    "\n",
    "Minimizar ou eliminar problemas existentes em um conjunto de dados, bem como torná-los mais adequados para sua utilização por um determinado algoritmo de aprendizagem de máquina.\n",
    "\n",
    "## 3.1 Eliminação de atributos irrelevantes\n",
    "\n",
    "O objetivo do projeto é identificar a espécie de uma flor, que é a (`classe`). Não é preciso uma análise profunda para observar que os atributos `id_planta` e `cidade_origem` não contribuem para a identificação. Portanto, em uma tarefa de aprendizado de máquina, devemos remover esses atributos, pois são irrelevantes. \n",
    "\n",
    "*Em cenários reais, muitas vezes é necessário consultar especialistas para ajudar a identificar quais atributos são irrelevantes.*"
   ]
  },
  {
   "cell_type": "code",
   "execution_count": 21,
   "id": "d2eb9430",
   "metadata": {},
   "outputs": [
    {
     "data": {
      "text/html": [
       "<div>\n",
       "<style scoped>\n",
       "    .dataframe tbody tr th:only-of-type {\n",
       "        vertical-align: middle;\n",
       "    }\n",
       "\n",
       "    .dataframe tbody tr th {\n",
       "        vertical-align: top;\n",
       "    }\n",
       "\n",
       "    .dataframe thead th {\n",
       "        text-align: right;\n",
       "    }\n",
       "</style>\n",
       "<table border=\"1\" class=\"dataframe\">\n",
       "  <thead>\n",
       "    <tr style=\"text-align: right;\">\n",
       "      <th></th>\n",
       "      <th>Age</th>\n",
       "      <th>Country</th>\n",
       "      <th>Streaming Platform</th>\n",
       "      <th>Top Genre</th>\n",
       "      <th>Minutes Streamed Per Day</th>\n",
       "      <th>Most Played Artist</th>\n",
       "      <th>Subscription Type</th>\n",
       "    </tr>\n",
       "  </thead>\n",
       "  <tbody>\n",
       "    <tr>\n",
       "      <th>0</th>\n",
       "      <td>34</td>\n",
       "      <td>Japan</td>\n",
       "      <td>Tidal</td>\n",
       "      <td>Reggae</td>\n",
       "      <td>295</td>\n",
       "      <td>Adele</td>\n",
       "      <td>Free</td>\n",
       "    </tr>\n",
       "    <tr>\n",
       "      <th>1</th>\n",
       "      <td>24</td>\n",
       "      <td>Germany</td>\n",
       "      <td>Deezer</td>\n",
       "      <td>Country</td>\n",
       "      <td>86</td>\n",
       "      <td>Ed Sheeran</td>\n",
       "      <td>Premium</td>\n",
       "    </tr>\n",
       "    <tr>\n",
       "      <th>2</th>\n",
       "      <td>49</td>\n",
       "      <td>Germany</td>\n",
       "      <td>Deezer</td>\n",
       "      <td>Pop</td>\n",
       "      <td>363</td>\n",
       "      <td>Post Malone</td>\n",
       "      <td>Premium</td>\n",
       "    </tr>\n",
       "    <tr>\n",
       "      <th>3</th>\n",
       "      <td>55</td>\n",
       "      <td>Australia</td>\n",
       "      <td>YouTube</td>\n",
       "      <td>Reggae</td>\n",
       "      <td>348</td>\n",
       "      <td>Dua Lipa</td>\n",
       "      <td>Premium</td>\n",
       "    </tr>\n",
       "    <tr>\n",
       "      <th>4</th>\n",
       "      <td>13</td>\n",
       "      <td>Germany</td>\n",
       "      <td>Amazon Music</td>\n",
       "      <td>Reggae</td>\n",
       "      <td>30</td>\n",
       "      <td>Adele</td>\n",
       "      <td>Free</td>\n",
       "    </tr>\n",
       "    <tr>\n",
       "      <th>5</th>\n",
       "      <td>25</td>\n",
       "      <td>South Korea</td>\n",
       "      <td>Spotify</td>\n",
       "      <td>EDM</td>\n",
       "      <td>536</td>\n",
       "      <td>The Weeknd</td>\n",
       "      <td>Premium</td>\n",
       "    </tr>\n",
       "    <tr>\n",
       "      <th>6</th>\n",
       "      <td>49</td>\n",
       "      <td>Australia</td>\n",
       "      <td>Tidal</td>\n",
       "      <td>Country</td>\n",
       "      <td>547</td>\n",
       "      <td>Billie Eilish</td>\n",
       "      <td>Free</td>\n",
       "    </tr>\n",
       "    <tr>\n",
       "      <th>7</th>\n",
       "      <td>32</td>\n",
       "      <td>UK</td>\n",
       "      <td>Amazon Music</td>\n",
       "      <td>Classical</td>\n",
       "      <td>98</td>\n",
       "      <td>Dua Lipa</td>\n",
       "      <td>Premium</td>\n",
       "    </tr>\n",
       "    <tr>\n",
       "      <th>8</th>\n",
       "      <td>25</td>\n",
       "      <td>Germany</td>\n",
       "      <td>Tidal</td>\n",
       "      <td>Metal</td>\n",
       "      <td>526</td>\n",
       "      <td>BTS</td>\n",
       "      <td>Premium</td>\n",
       "    </tr>\n",
       "    <tr>\n",
       "      <th>9</th>\n",
       "      <td>37</td>\n",
       "      <td>Brazil</td>\n",
       "      <td>Spotify</td>\n",
       "      <td>Reggae</td>\n",
       "      <td>514</td>\n",
       "      <td>Billie Eilish</td>\n",
       "      <td>Premium</td>\n",
       "    </tr>\n",
       "  </tbody>\n",
       "</table>\n",
       "</div>"
      ],
      "text/plain": [
       "   Age      Country Streaming Platform  Top Genre  Minutes Streamed Per Day  \\\n",
       "0   34        Japan              Tidal     Reggae                       295   \n",
       "1   24      Germany             Deezer    Country                        86   \n",
       "2   49      Germany             Deezer        Pop                       363   \n",
       "3   55    Australia            YouTube     Reggae                       348   \n",
       "4   13      Germany       Amazon Music     Reggae                        30   \n",
       "5   25  South Korea            Spotify        EDM                       536   \n",
       "6   49    Australia              Tidal    Country                       547   \n",
       "7   32           UK       Amazon Music  Classical                        98   \n",
       "8   25      Germany              Tidal      Metal                       526   \n",
       "9   37       Brazil            Spotify     Reggae                       514   \n",
       "\n",
       "  Most Played Artist Subscription Type  \n",
       "0              Adele              Free  \n",
       "1         Ed Sheeran           Premium  \n",
       "2        Post Malone           Premium  \n",
       "3           Dua Lipa           Premium  \n",
       "4              Adele              Free  \n",
       "5         The Weeknd           Premium  \n",
       "6      Billie Eilish              Free  \n",
       "7           Dua Lipa           Premium  \n",
       "8                BTS           Premium  \n",
       "9      Billie Eilish           Premium  "
      ]
     },
     "metadata": {},
     "output_type": "display_data"
    }
   ],
   "source": [
    "# remover as colunas id_planta e cidade_origem\n",
    "df = df_dataset.drop(columns=['User_ID', 'Listening Time (Morning/Afternoon/Night)', 'Number of Songs Liked', 'Discover Weekly Engagement (%)', 'Repeat Song Rate (%)'])\n",
    "\n",
    "# imprimir o dataframe\n",
    "display(df.head(n=10))"
   ]
  },
  {
   "cell_type": "markdown",
   "id": "4b3316e1",
   "metadata": {},
   "source": [
    "---\n",
    "## 3.2 Tratamento de atributos com valores ausentes\n",
    "\n",
    "Verificar se existem atributos com valores ausentes (NaN) na base de dados."
   ]
  },
  {
   "cell_type": "code",
   "execution_count": 22,
   "id": "8372fcd0",
   "metadata": {},
   "outputs": [
    {
     "data": {
      "text/html": [
       "<div>\n",
       "<style scoped>\n",
       "    .dataframe tbody tr th:only-of-type {\n",
       "        vertical-align: middle;\n",
       "    }\n",
       "\n",
       "    .dataframe tbody tr th {\n",
       "        vertical-align: top;\n",
       "    }\n",
       "\n",
       "    .dataframe thead th {\n",
       "        text-align: right;\n",
       "    }\n",
       "</style>\n",
       "<table border=\"1\" class=\"dataframe\">\n",
       "  <thead>\n",
       "    <tr style=\"text-align: right;\">\n",
       "      <th></th>\n",
       "      <th>Age</th>\n",
       "      <th>Country</th>\n",
       "      <th>Streaming Platform</th>\n",
       "      <th>Top Genre</th>\n",
       "      <th>Minutes Streamed Per Day</th>\n",
       "      <th>Most Played Artist</th>\n",
       "      <th>Subscription Type</th>\n",
       "    </tr>\n",
       "  </thead>\n",
       "  <tbody>\n",
       "  </tbody>\n",
       "</table>\n",
       "</div>"
      ],
      "text/plain": [
       "Empty DataFrame\n",
       "Columns: [Age, Country, Streaming Platform, Top Genre, Minutes Streamed Per Day, Most Played Artist, Subscription Type]\n",
       "Index: []"
      ]
     },
     "metadata": {},
     "output_type": "display_data"
    }
   ],
   "source": [
    "# índices das linhas que contém valores NaN\n",
    "idxRowNan = pd.isnull(df).any(axis=1).to_numpy().nonzero()\n",
    "\n",
    "# imprime apenas as linhas com valores ausentes\n",
    "display(df.iloc[idxRowNan])"
   ]
  },
  {
   "cell_type": "markdown",
   "id": "69682b7e",
   "metadata": {},
   "source": [
    "Como não há valores faltantes, nenhuma tratativa será feita aqui."
   ]
  },
  {
   "cell_type": "markdown",
   "id": "3caee7d1",
   "metadata": {},
   "source": [
    "---\n",
    "## 3.3 Tratamento de dados inconsistentes ou redundantes\n",
    "\n",
    "Verificar se existem dados inconsistentes ou redundantes. A forma mais comum de inconsistência é quando há registros representados por atributos com todos os valores iguais, mas com diagnóstico diferentes. A redundância é dada pela repetição de linhas na base de dados."
   ]
  },
  {
   "cell_type": "code",
   "execution_count": 23,
   "id": "a008c573",
   "metadata": {},
   "outputs": [
    {
     "name": "stdout",
     "output_type": "stream",
     "text": [
      "Não existem objetos redundantes e/ou inconsistentes!\n"
     ]
    }
   ],
   "source": [
    "df_duplicates = df[df.duplicated()] \n",
    "\n",
    "# se houver valores redundantes ou inconsistentes, imprima \n",
    "if len(df_duplicates) > 0:\n",
    "    print('\\nObjeto(s) redundante(s) e/ou inconsistente(s):')\n",
    "    display(df_duplicates)\n",
    "else:\n",
    "    print('Não existem objetos redundantes e/ou inconsistentes!')"
   ]
  },
  {
   "cell_type": "markdown",
   "id": "7a6781f0",
   "metadata": {},
   "source": [
    "Não existem objetos redundantes (duplicados) ou outros inconsistentes (iguais, exceto diagnóstico distintos) nesse dataset."
   ]
  },
  {
   "cell_type": "code",
   "execution_count": 24,
   "id": "7fb2c0ae-c939-4235-a542-59e74e829ebe",
   "metadata": {},
   "outputs": [
    {
     "data": {
      "text/html": [
       "<div>\n",
       "<style scoped>\n",
       "    .dataframe tbody tr th:only-of-type {\n",
       "        vertical-align: middle;\n",
       "    }\n",
       "\n",
       "    .dataframe tbody tr th {\n",
       "        vertical-align: top;\n",
       "    }\n",
       "\n",
       "    .dataframe thead th {\n",
       "        text-align: right;\n",
       "    }\n",
       "</style>\n",
       "<table border=\"1\" class=\"dataframe\">\n",
       "  <thead>\n",
       "    <tr style=\"text-align: right;\">\n",
       "      <th></th>\n",
       "      <th>Age</th>\n",
       "      <th>Country</th>\n",
       "      <th>Streaming Platform</th>\n",
       "      <th>Top Genre</th>\n",
       "      <th>Minutes Streamed Per Day</th>\n",
       "      <th>Most Played Artist</th>\n",
       "      <th>Subscription Type</th>\n",
       "    </tr>\n",
       "  </thead>\n",
       "  <tbody>\n",
       "    <tr>\n",
       "      <th>4995</th>\n",
       "      <td>60</td>\n",
       "      <td>UK</td>\n",
       "      <td>Deezer</td>\n",
       "      <td>Country</td>\n",
       "      <td>348</td>\n",
       "      <td>Post Malone</td>\n",
       "      <td>Premium</td>\n",
       "    </tr>\n",
       "    <tr>\n",
       "      <th>4996</th>\n",
       "      <td>38</td>\n",
       "      <td>Australia</td>\n",
       "      <td>Deezer</td>\n",
       "      <td>Hip-Hop</td>\n",
       "      <td>225</td>\n",
       "      <td>BTS</td>\n",
       "      <td>Premium</td>\n",
       "    </tr>\n",
       "    <tr>\n",
       "      <th>4997</th>\n",
       "      <td>27</td>\n",
       "      <td>Brazil</td>\n",
       "      <td>Amazon Music</td>\n",
       "      <td>Metal</td>\n",
       "      <td>568</td>\n",
       "      <td>Taylor Swift</td>\n",
       "      <td>Premium</td>\n",
       "    </tr>\n",
       "    <tr>\n",
       "      <th>4998</th>\n",
       "      <td>58</td>\n",
       "      <td>Canada</td>\n",
       "      <td>Amazon Music</td>\n",
       "      <td>EDM</td>\n",
       "      <td>523</td>\n",
       "      <td>Bad Bunny</td>\n",
       "      <td>Premium</td>\n",
       "    </tr>\n",
       "    <tr>\n",
       "      <th>4999</th>\n",
       "      <td>30</td>\n",
       "      <td>South Korea</td>\n",
       "      <td>YouTube</td>\n",
       "      <td>Rock</td>\n",
       "      <td>451</td>\n",
       "      <td>Adele</td>\n",
       "      <td>Premium</td>\n",
       "    </tr>\n",
       "  </tbody>\n",
       "</table>\n",
       "</div>"
      ],
      "text/plain": [
       "      Age      Country Streaming Platform Top Genre  Minutes Streamed Per Day  \\\n",
       "4995   60           UK             Deezer   Country                       348   \n",
       "4996   38    Australia             Deezer   Hip-Hop                       225   \n",
       "4997   27       Brazil       Amazon Music     Metal                       568   \n",
       "4998   58       Canada       Amazon Music       EDM                       523   \n",
       "4999   30  South Korea            YouTube      Rock                       451   \n",
       "\n",
       "     Most Played Artist Subscription Type  \n",
       "4995        Post Malone           Premium  \n",
       "4996                BTS           Premium  \n",
       "4997       Taylor Swift           Premium  \n",
       "4998          Bad Bunny           Premium  \n",
       "4999              Adele           Premium  "
      ]
     },
     "metadata": {},
     "output_type": "display_data"
    }
   ],
   "source": [
    "display(df.tail())"
   ]
  },
  {
   "cell_type": "markdown",
   "id": "67111385",
   "metadata": {},
   "source": [
    "---\n",
    "## 4. Análise dos Dados\n",
    "A análise das características presentes em um conjunto de dados permite a descoberta de padrões e tendências que podem fornecer informações valiosas para compreender o processo que gerou os dados."
   ]
  },
  {
   "cell_type": "code",
   "execution_count": 25,
   "id": "c6512464",
   "metadata": {},
   "outputs": [
    {
     "data": {
      "text/html": [
       "<div>\n",
       "<style scoped>\n",
       "    .dataframe tbody tr th:only-of-type {\n",
       "        vertical-align: middle;\n",
       "    }\n",
       "\n",
       "    .dataframe tbody tr th {\n",
       "        vertical-align: top;\n",
       "    }\n",
       "\n",
       "    .dataframe thead th {\n",
       "        text-align: right;\n",
       "    }\n",
       "</style>\n",
       "<table border=\"1\" class=\"dataframe\">\n",
       "  <thead>\n",
       "    <tr style=\"text-align: right;\">\n",
       "      <th></th>\n",
       "      <th>Age</th>\n",
       "      <th>Minutes Streamed Per Day</th>\n",
       "    </tr>\n",
       "  </thead>\n",
       "  <tbody>\n",
       "    <tr>\n",
       "      <th>count</th>\n",
       "      <td>5000.000000</td>\n",
       "      <td>5000.000000</td>\n",
       "    </tr>\n",
       "    <tr>\n",
       "      <th>mean</th>\n",
       "      <td>36.664000</td>\n",
       "      <td>309.237200</td>\n",
       "    </tr>\n",
       "    <tr>\n",
       "      <th>std</th>\n",
       "      <td>13.763844</td>\n",
       "      <td>172.029822</td>\n",
       "    </tr>\n",
       "    <tr>\n",
       "      <th>min</th>\n",
       "      <td>13.000000</td>\n",
       "      <td>10.000000</td>\n",
       "    </tr>\n",
       "    <tr>\n",
       "      <th>25%</th>\n",
       "      <td>25.000000</td>\n",
       "      <td>161.000000</td>\n",
       "    </tr>\n",
       "    <tr>\n",
       "      <th>50%</th>\n",
       "      <td>37.000000</td>\n",
       "      <td>316.000000</td>\n",
       "    </tr>\n",
       "    <tr>\n",
       "      <th>75%</th>\n",
       "      <td>49.000000</td>\n",
       "      <td>457.250000</td>\n",
       "    </tr>\n",
       "    <tr>\n",
       "      <th>max</th>\n",
       "      <td>60.000000</td>\n",
       "      <td>600.000000</td>\n",
       "    </tr>\n",
       "  </tbody>\n",
       "</table>\n",
       "</div>"
      ],
      "text/plain": [
       "               Age  Minutes Streamed Per Day\n",
       "count  5000.000000               5000.000000\n",
       "mean     36.664000                309.237200\n",
       "std      13.763844                172.029822\n",
       "min      13.000000                 10.000000\n",
       "25%      25.000000                161.000000\n",
       "50%      37.000000                316.000000\n",
       "75%      49.000000                457.250000\n",
       "max      60.000000                600.000000"
      ]
     },
     "metadata": {},
     "output_type": "display_data"
    }
   ],
   "source": [
    "# apresenta as principais estatísticas da base de dados para atributos numéricos\n",
    "df_detalhes = df.describe()\n",
    "\n",
    "display(df_detalhes)"
   ]
  },
  {
   "cell_type": "markdown",
   "id": "dd8e0964",
   "metadata": {},
   "source": [
    "---\n",
    "## 4.1 Detecção de outliers (valor atípico)\n",
    "Outro passo importante na análise e tratamento dos dados é a detecção de outliers (dados gerados por leituras incorretas, erros de digitação etc)."
   ]
  },
  {
   "cell_type": "markdown",
   "id": "062a34ea",
   "metadata": {},
   "source": [
    "`Gráfico Box Plot`\n",
    "\n",
    "Uma das maneiras mais simples de verificar se os dados contém outliers."
   ]
  },
  {
   "cell_type": "code",
   "execution_count": 62,
   "id": "d6540222",
   "metadata": {},
   "outputs": [
    {
     "data": {
      "image/png": "[encoded data removed]",
      "text/plain": [
       "<Figure size 1500x700 with 1 Axes>"
      ]
     },
     "metadata": {},
     "output_type": "display_data"
    }
   ],
   "source": [
    "# gerar um bloxplot para cada atributo\n",
    "df.boxplot(figsize=(15,7))\n",
    "plt.show()"
   ]
  },
  {
   "cell_type": "markdown",
   "id": "bbd0fdb4",
   "metadata": {},
   "source": [
    "O box plot e as tabelas indicam que não há *outliers* na base de dados, apesar da variação de na coluna 'Minutes Stremead Per Day'"
   ]
  },
  {
   "cell_type": "markdown",
   "id": "b86614ca-3510-431e-92fc-378d22818e92",
   "metadata": {},
   "source": [
    "---\n",
    "## 4.2 Visualização de dados"
   ]
  },
  {
   "cell_type": "markdown",
   "id": "75406dd2-437a-420b-9536-30a716f47ab6",
   "metadata": {},
   "source": [
    "Para visualizar esses dados, vamos primeiramente reduzir a quantidade de plataformas de streaming presentes no dataset."
   ]
  },
  {
   "cell_type": "code",
   "execution_count": 58,
   "id": "cce589d1-47a6-4897-953b-3bf4e9a500e3",
   "metadata": {},
   "outputs": [
    {
     "data": {
      "text/plain": [
       "array(['Tidal', 'Deezer', 'YouTube', 'Amazon Music', 'Spotify',\n",
       "       'Apple Music'], dtype=object)"
      ]
     },
     "execution_count": 58,
     "metadata": {},
     "output_type": "execute_result"
    }
   ],
   "source": [
    "df['Streaming Platform'].unique()"
   ]
  },
  {
   "cell_type": "code",
   "execution_count": 63,
   "id": "049f97ad-bffd-40f5-a07f-22ea72a17f5d",
   "metadata": {},
   "outputs": [],
   "source": [
    "# escolhendo as 4 principais plataformas para a análise\n",
    "plataformas = ['YouTube', 'Amazon Music', 'Spotify', 'Apple Music']\n",
    "df_filtrado = df[df['Streaming Platform'].isin(plataformas)]"
   ]
  },
  {
   "cell_type": "markdown",
   "id": "9c880eb2-faa0-455f-a244-67df3c08e709",
   "metadata": {},
   "source": [
    "---\n",
    "### 4.2.1 Gêneros mais ouvidos em cada plataforma\n",
    "\n",
    "Com esse dataset podemos analisar os gêneros de música mais ouvidos por plataforma e o impacto que cada perfil (gratuito/premium) tem."
   ]
  },
  {
   "cell_type": "code",
   "execution_count": 114,
   "id": "7c9987c4-d5a2-4222-9c44-f8ea4e89df4e",
   "metadata": {},
   "outputs": [
    {
     "data": {
      "image/png": "[encoded data removed]",
      "text/plain": [
       "<Figure size 1800x1000 with 4 Axes>"
      ]
     },
     "metadata": {},
     "output_type": "display_data"
    }
   ],
   "source": [
    "fig, axs = plt.subplots(2, 2, figsize=(18, 10))\n",
    "axs = axs.flatten()\n",
    "\n",
    "colors = {'Free': 'skyblue', 'Premium': 'steelblue'}\n",
    "\n",
    "for i, platforma in enumerate(plataformas):\n",
    "    ax = axs[i]\n",
    "    df_plat = df[df['Streaming Platform'] == platforma]\n",
    "    df_generos = df_plat.groupby(['Top Genre', 'Subscription Type']).size().unstack()\n",
    "\n",
    "    df_generos.plot(kind='bar', stacked=True, ax=ax, color=colors, width=0.8)\n",
    "        \n",
    "    ax.set_title(platforma)\n",
    "    ax.set_xlabel(\"Gênero\")\n",
    "    ax.set_ylabel(\"Quantidade de Ouvintes\")\n",
    "    ax.grid(axis='y', linestyle='--', alpha=0.7)\n",
    "    ax.set_xticklabels(ax.get_xticklabels(), rotation=45, ha=\"right\")\n",
    "    ax.legend()\n",
    "\n",
    "plt.show()\n"
   ]
  },
  {
   "cell_type": "markdown",
   "id": "a88a8d24-29cc-4976-a0af-e84919f81dcc",
   "metadata": {},
   "source": [
    "---\n",
    "### 4.2.2 Relação de ouvintes por país\n",
    "\n",
    "Quantidade de ouvintes (de todas as plataformas) gratuitos e pagos por país"
   ]
  },
  {
   "cell_type": "code",
   "execution_count": 117,
   "id": "24fbbadd-f974-4c00-8e85-f1c9d695d23d",
   "metadata": {},
   "outputs": [
    {
     "data": {
      "image/png": "[encoded data removed]",
      "text/plain": [
       "<Figure size 1200x600 with 1 Axes>"
      ]
     },
     "metadata": {},
     "output_type": "display_data"
    }
   ],
   "source": [
    "# Conta ouvintes gratuitos e premium por país\n",
    "df_paises = df.groupby(['Country', 'Subscription Type']).size().unstack()\n",
    "\n",
    "# Plota um gráfico de barras empilhadas\n",
    "ax = df_paises.plot(kind='bar', stacked=True, figsize=(12, 6), color=['skyblue', 'steelblue'])\n",
    "\n",
    "plt.title(\"Número de Ouvintes Pagos/Gratuitos por País\")\n",
    "plt.xlabel(\"País\")\n",
    "plt.ylabel(\"Número de Ouvintes\")\n",
    "plt.legend(title=\"Tipo de Assinatura\")\n",
    "plt.xticks(rotation=45)\n",
    "\n",
    "plt.show()\n"
   ]
  },
  {
   "cell_type": "code",
   "execution_count": null,
   "id": "bf7faec3-f608-4873-a6d1-1ee7e7e266b2",
   "metadata": {},
   "outputs": [],
   "source": []
  }
 ],
 "metadata": {
  "kernelspec": {
   "display_name": "Python 3 (ipykernel)",
   "language": "python",
   "name": "python3"
  },
  "language_info": {
   "codemirror_mode": {
    "name": "ipython",
    "version": 3
   },
   "file_extension": ".py",
   "mimetype": "text/x-python",
   "name": "python",
   "nbconvert_exporter": "python",
   "pygments_lexer": "ipython3",
   "version": "3.11.2"
  }
 },
 "nbformat": 4,
 "nbformat_minor": 5
}
